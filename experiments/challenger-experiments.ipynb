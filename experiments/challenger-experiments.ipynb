{
 "cells": [
  {
   "cell_type": "markdown",
   "id": "07ef0373",
   "metadata": {},
   "source": [
    "# Tarea 5\n",
    "- Ivan Morales, 10 de Octubre de 2025\n",
    "\n",
    "Realizaremos dos experimentos, cada uno con chid experiments\n",
    "\n",
    "    - Gradient Boost\n",
    "    - Random Forest"
   ]
  },
  {
   "cell_type": "markdown",
   "id": "f4f8a33e",
   "metadata": {},
   "source": [
    "### Importar las librerias necesarias y establecer conexion con Databricks"
   ]
  },
  {
   "cell_type": "code",
   "execution_count": 1,
   "id": "06037451",
   "metadata": {},
   "outputs": [],
   "source": [
    "import os, mlflow\n",
    "from dotenv import load_dotenv\n",
    "import pickle\n",
    "import pandas as pd\n",
    "from sklearn.metrics import  root_mean_squared_error\n",
    "from sklearn.feature_extraction import  DictVectorizer\n",
    "\n",
    "load_dotenv(override=True) # Cargar las variables de entorno desde el archivo .env\n",
    "EXPERIMENT_NAME = \"/Users/ivan.morales@iteso.mx/nyc-taxi-experiments\" \n",
    "\n",
    "mlflow.set_tracking_uri(\"databricks\")\n",
    "experiment = mlflow.set_experiment(experiment_name=EXPERIMENT_NAME)"
   ]
  }
 ],
 "metadata": {
  "kernelspec": {
   "display_name": "nyc-taxi-predictions-2025 (3.13.7)",
   "language": "python",
   "name": "python3"
  },
  "language_info": {
   "codemirror_mode": {
    "name": "ipython",
    "version": 3
   },
   "file_extension": ".py",
   "mimetype": "text/x-python",
   "name": "python",
   "nbconvert_exporter": "python",
   "pygments_lexer": "ipython3",
   "version": "3.13.7"
  }
 },
 "nbformat": 4,
 "nbformat_minor": 5
}
