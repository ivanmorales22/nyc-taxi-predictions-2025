{
 "cells": [
  {
   "cell_type": "markdown",
   "id": "07ef0373",
   "metadata": {},
   "source": [
    "# Tarea 5\n",
    "- Ivan Morales, 10 de Octubre de 2025\n",
    "\n",
    "Realizaremos dos experimentos, cada uno con child experiments\n",
    "\n",
    "    - Gradient Boost\n",
    "    - Random Forest"
   ]
  },
  {
   "cell_type": "markdown",
   "id": "f4f8a33e",
   "metadata": {},
   "source": [
    "### Importar las librerias necesarias y establecer conexion con Databricks"
   ]
  },
  {
   "cell_type": "code",
   "execution_count": 4,
   "id": "06037451",
   "metadata": {},
   "outputs": [],
   "source": [
    "import os, mlflow\n",
    "from dotenv import load_dotenv\n",
    "import pickle\n",
    "import pandas as pd\n",
    "from sklearn.metrics import  root_mean_squared_error\n",
    "from sklearn.feature_extraction import  DictVectorizer\n",
    "\n",
    "load_dotenv(override=True) # Cargar las variables de entorno desde el archivo .env\n",
    "EXPERIMENT_NAME = \"/Users/ivan.morales@iteso.mx/nyc-taxi-experiments\" \n",
    "\n",
    "mlflow.set_tracking_uri(\"databricks\")\n",
    "experiment = mlflow.set_experiment(experiment_name=EXPERIMENT_NAME)"
   ]
  },
  {
   "cell_type": "markdown",
   "id": "d4e3977b",
   "metadata": {},
   "source": [
    "Preparacion de los datos"
   ]
  },
  {
   "cell_type": "code",
   "execution_count": 5,
   "id": "e256d4c9",
   "metadata": {},
   "outputs": [],
   "source": [
    "def read_dataframe(filename):\n",
    "\n",
    "    df = pd.read_parquet(filename)\n",
    "\n",
    "    df['duration'] = df.lpep_dropoff_datetime - df.lpep_pickup_datetime\n",
    "    df.duration = df.duration.apply(lambda td: td.total_seconds() / 60)\n",
    "\n",
    "    df = df[(df.duration >= 1) & (df.duration <= 60)]\n",
    "\n",
    "    categorical = ['PULocationID', 'DOLocationID']\n",
    "    df[categorical] = df[categorical].astype(str)\n",
    "\n",
    "    return df\n",
    "\n",
    "df_train_ene = read_dataframe('../data/green_tripdata_2025-01.parquet')\n",
    "df_train_feb = read_dataframe('../data/green_tripdata_2025-02.parquet')\n",
    "df_val = read_dataframe('../data/green_tripdata_2025-03.parquet')"
   ]
  },
  {
   "cell_type": "code",
   "execution_count": 6,
   "id": "d6e33f7c",
   "metadata": {},
   "outputs": [
    {
     "name": "stdout",
     "output_type": "stream",
     "text": [
      "<class 'pandas.core.frame.DataFrame'>\n",
      "Index: 44218 entries, 0 to 46620\n",
      "Data columns (total 22 columns):\n",
      " #   Column                 Non-Null Count  Dtype         \n",
      "---  ------                 --------------  -----         \n",
      " 0   VendorID               44218 non-null  int32         \n",
      " 1   lpep_pickup_datetime   44218 non-null  datetime64[us]\n",
      " 2   lpep_dropoff_datetime  44218 non-null  datetime64[us]\n",
      " 3   store_and_fwd_flag     42295 non-null  object        \n",
      " 4   RatecodeID             42295 non-null  float64       \n",
      " 5   PULocationID           44218 non-null  object        \n",
      " 6   DOLocationID           44218 non-null  object        \n",
      " 7   passenger_count        42295 non-null  float64       \n",
      " 8   trip_distance          44218 non-null  float64       \n",
      " 9   fare_amount            44218 non-null  float64       \n",
      " 10  extra                  44218 non-null  float64       \n",
      " 11  mta_tax                44218 non-null  float64       \n",
      " 12  tip_amount             44218 non-null  float64       \n",
      " 13  tolls_amount           44218 non-null  float64       \n",
      " 14  ehail_fee              0 non-null      float64       \n",
      " 15  improvement_surcharge  44218 non-null  float64       \n",
      " 16  total_amount           44218 non-null  float64       \n",
      " 17  payment_type           42295 non-null  float64       \n",
      " 18  trip_type              42291 non-null  float64       \n",
      " 19  congestion_surcharge   42295 non-null  float64       \n",
      " 20  cbd_congestion_fee     42696 non-null  float64       \n",
      " 21  duration               44218 non-null  float64       \n",
      "dtypes: datetime64[us](2), float64(16), int32(1), object(3)\n",
      "memory usage: 7.6+ MB\n"
     ]
    }
   ],
   "source": [
    "df_train_ene.info()"
   ]
  },
  {
   "cell_type": "code",
   "execution_count": 7,
   "id": "f74c1afe",
   "metadata": {},
   "outputs": [
    {
     "name": "stdout",
     "output_type": "stream",
     "text": [
      "<class 'pandas.core.frame.DataFrame'>\n",
      "Index: 88436 entries, 0 to 46620\n",
      "Data columns (total 22 columns):\n",
      " #   Column                 Non-Null Count  Dtype         \n",
      "---  ------                 --------------  -----         \n",
      " 0   VendorID               88436 non-null  int32         \n",
      " 1   lpep_pickup_datetime   88436 non-null  datetime64[us]\n",
      " 2   lpep_dropoff_datetime  88436 non-null  datetime64[us]\n",
      " 3   store_and_fwd_flag     84590 non-null  object        \n",
      " 4   RatecodeID             84590 non-null  float64       \n",
      " 5   PULocationID           88436 non-null  object        \n",
      " 6   DOLocationID           88436 non-null  object        \n",
      " 7   passenger_count        84590 non-null  float64       \n",
      " 8   trip_distance          88436 non-null  float64       \n",
      " 9   fare_amount            88436 non-null  float64       \n",
      " 10  extra                  88436 non-null  float64       \n",
      " 11  mta_tax                88436 non-null  float64       \n",
      " 12  tip_amount             88436 non-null  float64       \n",
      " 13  tolls_amount           88436 non-null  float64       \n",
      " 14  ehail_fee              0 non-null      float64       \n",
      " 15  improvement_surcharge  88436 non-null  float64       \n",
      " 16  total_amount           88436 non-null  float64       \n",
      " 17  payment_type           84590 non-null  float64       \n",
      " 18  trip_type              84582 non-null  float64       \n",
      " 19  congestion_surcharge   84590 non-null  float64       \n",
      " 20  cbd_congestion_fee     85392 non-null  float64       \n",
      " 21  duration               88436 non-null  float64       \n",
      "dtypes: datetime64[us](2), float64(16), int32(1), object(3)\n",
      "memory usage: 15.2+ MB\n"
     ]
    }
   ],
   "source": [
    "df_train = pd.concat([df_train_ene, df_train_feb])\n",
    "df_train.info()"
   ]
  },
  {
   "cell_type": "markdown",
   "id": "ffe7679b",
   "metadata": {},
   "source": [
    "Concatemos los datasets de enero y febrero para construir una base mas robusta para validar con los datos de marzo."
   ]
  },
  {
   "cell_type": "markdown",
   "id": "5151e371",
   "metadata": {},
   "source": [
    "Feature Engineering + One Hot Encoding, pipeline simple inicial"
   ]
  },
  {
   "cell_type": "code",
   "execution_count": 8,
   "id": "261653d2",
   "metadata": {},
   "outputs": [],
   "source": [
    "def preprocess(df, dv):\n",
    "    df['PU_DO'] = df['PULocationID'] + '_' + df['DOLocationID']\n",
    "    categorical = ['PU_DO']\n",
    "    numerical = ['trip_distance']\n",
    "    train_dicts = df[categorical + numerical].to_dict(orient='records')\n",
    "    return dv.transform(train_dicts)\n",
    "\n",
    "categorical = ['PULocationID', 'DOLocationID']\n",
    "numerical = ['trip_distance']\n",
    "dv = DictVectorizer()\n",
    "\n",
    "train_dicts = df_train[categorical + numerical].to_dict(orient='records')\n",
    "X_train = dv.fit_transform(train_dicts)\n",
    "\n",
    "X_val = preprocess(df_val, dv)\n",
    "\n",
    "target = 'duration'\n",
    "y_train = df_train[target].values\n",
    "y_val = df_val[target].values"
   ]
  },
  {
   "cell_type": "markdown",
   "id": "982fee37",
   "metadata": {},
   "source": [
    "Definir los dataset como objetos de *mlflow* para poderlos trackear"
   ]
  },
  {
   "cell_type": "code",
   "execution_count": 9,
   "id": "ce020484",
   "metadata": {},
   "outputs": [],
   "source": [
    "training_dataset = mlflow.data.from_numpy(X_train.data, targets=y_train, name=\"green_tripdata_2025-01&02\")\n",
    "validation_dataset = mlflow.data.from_numpy(X_val.data, targets=y_val, name=\"green_tripdata_2025-03\")"
   ]
  },
  {
   "cell_type": "markdown",
   "id": "4f5443bc",
   "metadata": {},
   "source": [
    "# Modelos"
   ]
  },
  {
   "cell_type": "code",
   "execution_count": 10,
   "id": "4921bcbc",
   "metadata": {},
   "outputs": [],
   "source": [
    "# XGBOOST \n",
    "import math\n",
    "import optuna\n",
    "import pathlib\n",
    "import xgboost as xgb\n",
    "from optuna.samplers import TPESampler\n",
    "from mlflow.models.signature import infer_signature"
   ]
  },
  {
   "cell_type": "code",
   "execution_count": 11,
   "id": "8eaf9ff9",
   "metadata": {},
   "outputs": [],
   "source": [
    "train = xgb.DMatrix(X_train, label=y_train)\n",
    "valid = xgb.DMatrix(X_val, label=y_val)"
   ]
  },
  {
   "cell_type": "code",
   "execution_count": 12,
   "id": "fc759fc6",
   "metadata": {},
   "outputs": [],
   "source": [
    "# ------------------------------------------------------------\n",
    "# Definir la función objetivo para Optuna\n",
    "#    - Recibe un `trial`, que se usa para proponer hiperparámetros.\n",
    "#    - Entrena un modelo con esos hiperparámetros.\n",
    "#    - Calcula la métrica de validación (RMSE) y la retorna (Optuna la minimizará).\n",
    "#    - Abrimos un run anidado de MLflow para registrar cada trial.\n",
    "# ------------------------------------------------------------\n",
    "def objective(trial: optuna.trial.Trial):\n",
    "    # Hiperparámetros MUESTREADOS por Optuna en CADA trial.\n",
    "    # Nota: usamos log=True para emular rangos log-uniformes (similar a loguniform).\n",
    "    params = {\n",
    "        \"max_depth\": trial.suggest_int(\"max_depth\", 4, 100),\n",
    "        \"learning_rate\": trial.suggest_float(\"learning_rate\", math.exp(-3), 1.0, log=True),\n",
    "        \"reg_alpha\": trial.suggest_float(\"reg_alpha\",   math.exp(-5), math.exp(-1), log=True),\n",
    "        \"reg_lambda\": trial.suggest_float(\"reg_lambda\", math.exp(-6), math.exp(-1), log=True),\n",
    "        \"min_child_weight\": trial.suggest_float(\"min_child_weight\", math.exp(-1), math.exp(3), log=True),\n",
    "        \"objective\": \"reg:squarederror\",  \n",
    "        \"seed\": 42,                      \n",
    "    }\n",
    "\n",
    "    # Run anidado para dejar rastro de cada trial en MLflow\n",
    "    with mlflow.start_run(nested=True):\n",
    "        mlflow.set_tag(\"model_family\", \"xgboost\")  # etiqueta informativa\n",
    "        mlflow.log_params(params)                  # registra hiperparámetros del trial\n",
    "\n",
    "        # Entrenamiento con early stopping en el conjunto de validación\n",
    "        booster = xgb.train(\n",
    "            params=params,\n",
    "            dtrain=train,\n",
    "            num_boost_round=100,\n",
    "            evals=[(valid, \"validation\")],\n",
    "            early_stopping_rounds=10,\n",
    "        )\n",
    "\n",
    "        # Predicción y métrica en validación\n",
    "        y_pred = booster.predict(valid)\n",
    "        rmse = root_mean_squared_error(y_val, y_pred)\n",
    "\n",
    "        # Registrar la métrica principal\n",
    "        mlflow.log_metric(\"rmse\", rmse)\n",
    "\n",
    "        # La \"signature\" describe la estructura esperada de entrada y salida del modelo:\n",
    "        # incluye los nombres, tipos y forma (shape) de las variables de entrada y el tipo de salida.\n",
    "        # MLflow la usa para validar datos en inferencia y documentar el modelo en el Model Registry.\n",
    "        signature = infer_signature(X_val, y_pred)\n",
    "\n",
    "        # Guardar el modelo del trial como artefacto en MLflow.\n",
    "        mlflow.xgboost.log_model(\n",
    "            booster,\n",
    "            name=\"model\",\n",
    "            input_example=X_val[:5],\n",
    "            signature=signature\n",
    "        )\n",
    "\n",
    "    # Optuna minimiza el valor retornado\n",
    "    return rmse"
   ]
  },
  {
   "cell_type": "markdown",
   "id": "46ceb5de",
   "metadata": {},
   "source": [
    "Flujo de Busqueda"
   ]
  },
  {
   "cell_type": "code",
   "execution_count": 13,
   "id": "30b1ff64",
   "metadata": {},
   "outputs": [
    {
     "name": "stderr",
     "output_type": "stream",
     "text": [
      "[I 2025-10-28 20:31:52,111] A new study created in memory with name: no-name-7ffa3aec-134d-4296-a5ea-77545d4ce509\n"
     ]
    },
    {
     "name": "stdout",
     "output_type": "stream",
     "text": [
      "[0]\tvalidation-rmse:6.50020\n",
      "[1]\tvalidation-rmse:6.44713\n",
      "[2]\tvalidation-rmse:6.44851\n",
      "[3]\tvalidation-rmse:6.44788\n",
      "[4]\tvalidation-rmse:6.44758\n",
      "[5]\tvalidation-rmse:6.44908\n",
      "[6]\tvalidation-rmse:6.44861\n",
      "[7]\tvalidation-rmse:6.44855\n",
      "[8]\tvalidation-rmse:6.44929\n",
      "[9]\tvalidation-rmse:6.44927\n",
      "[10]\tvalidation-rmse:6.44808\n",
      "[11]\tvalidation-rmse:6.44815\n"
     ]
    },
    {
     "name": "stderr",
     "output_type": "stream",
     "text": [
      "c:\\Users\\ivanm\\5to Semestre\\Proyecto de Ciencia de Datos\\nyc-taxi-predictions-2025\\.venv\\Lib\\site-packages\\mlflow\\xgboost\\__init__.py:169: UserWarning: [20:32:02] WARNING: C:\\actions-runner\\_work\\xgboost\\xgboost\\src\\c_api\\c_api.cc:1575: Saving model in the UBJSON format as default.  You can use a file extension: `json` or `ubj` to choose between formats.\n",
      "  xgb_model.save_model(model_data_path)\n",
      "2025/10/28 20:32:14 WARNING mlflow.utils.environment: Failed to resolve installed pip version. ``pip`` will be added to conda.yaml environment spec without a version specifier.\n"
     ]
    },
    {
     "data": {
      "application/vnd.jupyter.widget-view+json": {
       "model_id": "54196847b6174f828272f7c39f810941",
       "version_major": 2,
       "version_minor": 0
      },
      "text/plain": [
       "Downloading artifacts:   0%|          | 0/7 [00:00<?, ?it/s]"
      ]
     },
     "metadata": {},
     "output_type": "display_data"
    },
    {
     "name": "stderr",
     "output_type": "stream",
     "text": [
      "c:\\Users\\ivanm\\5to Semestre\\Proyecto de Ciencia de Datos\\nyc-taxi-predictions-2025\\.venv\\Lib\\site-packages\\mlflow\\xgboost\\__init__.py:321: UserWarning: [20:32:14] WARNING: C:\\actions-runner\\_work\\xgboost\\xgboost\\src\\c_api\\c_api.cc:1511: Unknown file format: `xgb`. Using UBJSON (`ubj`) as a guess.\n",
      "  model.load_model(xgb_model_path)\n",
      "2025/10/28 20:32:15 INFO mlflow.models.model: Found the following environment variables used during model inference: [DATABRICKS_HOST, DATABRICKS_TOKEN]. Please check if you need to set them when deploying the model. To disable this message, set environment variable `MLFLOW_RECORD_ENV_VARS_IN_MODEL_LOGGING` to `false`.\n",
      "[I 2025-10-28 20:32:18,318] Trial 0 finished with value: 6.448153607973611 and parameters: {'max_depth': 40, 'learning_rate': 0.8625543817410922, 'reg_alpha': 0.12593061066249622, 'reg_lambda': 0.049454235173237264, 'min_child_weight': 0.6866535292359801}. Best is trial 0 with value: 6.448153607973611.\n"
     ]
    },
    {
     "name": "stdout",
     "output_type": "stream",
     "text": [
      "🏃 View run stylish-squirrel-627 at: https://dbc-ed7122c4-c5b7.cloud.databricks.com/ml/experiments/2414141065980596/runs/5d85fbd06a79494db6c1f06671b3e02e\n",
      "🧪 View experiment at: https://dbc-ed7122c4-c5b7.cloud.databricks.com/ml/experiments/2414141065980596\n",
      "[0]\tvalidation-rmse:9.39331\n",
      "[1]\tvalidation-rmse:9.06545\n",
      "[2]\tvalidation-rmse:8.77322\n",
      "[3]\tvalidation-rmse:8.50858\n",
      "[4]\tvalidation-rmse:8.26164\n",
      "[5]\tvalidation-rmse:8.04744\n",
      "[6]\tvalidation-rmse:7.85184\n",
      "[7]\tvalidation-rmse:7.67441\n",
      "[8]\tvalidation-rmse:7.51775\n",
      "[9]\tvalidation-rmse:7.37410\n",
      "[10]\tvalidation-rmse:7.24928\n",
      "[11]\tvalidation-rmse:7.13915\n",
      "[12]\tvalidation-rmse:7.04022\n",
      "[13]\tvalidation-rmse:6.95339\n",
      "[14]\tvalidation-rmse:6.87086\n",
      "[15]\tvalidation-rmse:6.80144\n",
      "[16]\tvalidation-rmse:6.74283\n",
      "[17]\tvalidation-rmse:6.68987\n",
      "[18]\tvalidation-rmse:6.64133\n",
      "[19]\tvalidation-rmse:6.59762\n",
      "[20]\tvalidation-rmse:6.56128\n",
      "[21]\tvalidation-rmse:6.52847\n",
      "[22]\tvalidation-rmse:6.49955\n",
      "[23]\tvalidation-rmse:6.47610\n",
      "[24]\tvalidation-rmse:6.45523\n",
      "[25]\tvalidation-rmse:6.43780\n",
      "[26]\tvalidation-rmse:6.42159\n",
      "[27]\tvalidation-rmse:6.40854\n",
      "[28]\tvalidation-rmse:6.39646\n",
      "[29]\tvalidation-rmse:6.38687\n",
      "[30]\tvalidation-rmse:6.37909\n",
      "[31]\tvalidation-rmse:6.37207\n",
      "[32]\tvalidation-rmse:6.36576\n",
      "[33]\tvalidation-rmse:6.36057\n",
      "[34]\tvalidation-rmse:6.35637\n",
      "[35]\tvalidation-rmse:6.35307\n",
      "[36]\tvalidation-rmse:6.34992\n",
      "[37]\tvalidation-rmse:6.34762\n",
      "[38]\tvalidation-rmse:6.34536\n",
      "[39]\tvalidation-rmse:6.34374\n",
      "[40]\tvalidation-rmse:6.34252\n",
      "[41]\tvalidation-rmse:6.34183\n",
      "[42]\tvalidation-rmse:6.34124\n",
      "[43]\tvalidation-rmse:6.34084\n",
      "[44]\tvalidation-rmse:6.34065\n",
      "[45]\tvalidation-rmse:6.34052\n",
      "[46]\tvalidation-rmse:6.34040\n",
      "[47]\tvalidation-rmse:6.34035\n",
      "[48]\tvalidation-rmse:6.34034\n",
      "[49]\tvalidation-rmse:6.34048\n",
      "[50]\tvalidation-rmse:6.34070\n",
      "[51]\tvalidation-rmse:6.34091\n",
      "[52]\tvalidation-rmse:6.34123\n",
      "[53]\tvalidation-rmse:6.34145\n",
      "[54]\tvalidation-rmse:6.34167\n",
      "[55]\tvalidation-rmse:6.34193\n",
      "[56]\tvalidation-rmse:6.34213\n",
      "[57]\tvalidation-rmse:6.34242\n"
     ]
    },
    {
     "name": "stderr",
     "output_type": "stream",
     "text": [
      "c:\\Users\\ivanm\\5to Semestre\\Proyecto de Ciencia de Datos\\nyc-taxi-predictions-2025\\.venv\\Lib\\site-packages\\mlflow\\xgboost\\__init__.py:169: UserWarning: [20:32:24] WARNING: C:\\actions-runner\\_work\\xgboost\\xgboost\\src\\c_api\\c_api.cc:1575: Saving model in the UBJSON format as default.  You can use a file extension: `json` or `ubj` to choose between formats.\n",
      "  xgb_model.save_model(model_data_path)\n",
      "2025/10/28 20:32:30 WARNING mlflow.utils.environment: Failed to resolve installed pip version. ``pip`` will be added to conda.yaml environment spec without a version specifier.\n"
     ]
    },
    {
     "data": {
      "application/vnd.jupyter.widget-view+json": {
       "model_id": "4b8ce5b7f11a46a4afa6ac24b141c388",
       "version_major": 2,
       "version_minor": 0
      },
      "text/plain": [
       "Downloading artifacts:   0%|          | 0/7 [00:00<?, ?it/s]"
      ]
     },
     "metadata": {},
     "output_type": "display_data"
    },
    {
     "name": "stderr",
     "output_type": "stream",
     "text": [
      "c:\\Users\\ivanm\\5to Semestre\\Proyecto de Ciencia de Datos\\nyc-taxi-predictions-2025\\.venv\\Lib\\site-packages\\mlflow\\xgboost\\__init__.py:321: UserWarning: [20:32:30] WARNING: C:\\actions-runner\\_work\\xgboost\\xgboost\\src\\c_api\\c_api.cc:1511: Unknown file format: `xgb`. Using UBJSON (`ubj`) as a guess.\n",
      "  model.load_model(xgb_model_path)\n",
      "[I 2025-10-28 20:32:35,280] Trial 1 finished with value: 6.342751049216642 and parameters: {'max_depth': 19, 'learning_rate': 0.059264241587996896, 'reg_alpha': 0.21539205131792016, 'reg_lambda': 0.05006540936006931, 'min_child_weight': 6.248180561354165}. Best is trial 1 with value: 6.342751049216642.\n"
     ]
    },
    {
     "name": "stdout",
     "output_type": "stream",
     "text": [
      "🏃 View run fortunate-whale-764 at: https://dbc-ed7122c4-c5b7.cloud.databricks.com/ml/experiments/2414141065980596/runs/9bdbe9a32f014581aeb6f8adb4360a9a\n",
      "🧪 View experiment at: https://dbc-ed7122c4-c5b7.cloud.databricks.com/ml/experiments/2414141065980596\n",
      "[0]\tvalidation-rmse:6.40088\n",
      "[1]\tvalidation-rmse:6.37426\n",
      "[2]\tvalidation-rmse:6.37688\n",
      "[3]\tvalidation-rmse:6.37673\n",
      "[4]\tvalidation-rmse:6.37484\n",
      "[5]\tvalidation-rmse:6.37329\n",
      "[6]\tvalidation-rmse:6.37279\n",
      "[7]\tvalidation-rmse:6.37328\n",
      "[8]\tvalidation-rmse:6.37399\n",
      "[9]\tvalidation-rmse:6.37447\n",
      "[10]\tvalidation-rmse:6.37435\n",
      "[11]\tvalidation-rmse:6.37470\n",
      "[12]\tvalidation-rmse:6.37477\n",
      "[13]\tvalidation-rmse:6.37541\n",
      "[14]\tvalidation-rmse:6.36442\n",
      "[15]\tvalidation-rmse:6.36243\n",
      "[16]\tvalidation-rmse:6.36139\n",
      "[17]\tvalidation-rmse:6.36159\n",
      "[18]\tvalidation-rmse:6.36161\n",
      "[19]\tvalidation-rmse:6.36188\n",
      "[20]\tvalidation-rmse:6.36180\n",
      "[21]\tvalidation-rmse:6.35968\n",
      "[22]\tvalidation-rmse:6.35933\n",
      "[23]\tvalidation-rmse:6.36098\n",
      "[24]\tvalidation-rmse:6.36094\n",
      "[25]\tvalidation-rmse:6.36090\n",
      "[26]\tvalidation-rmse:6.36099\n",
      "[27]\tvalidation-rmse:6.36100\n",
      "[28]\tvalidation-rmse:6.36107\n",
      "[29]\tvalidation-rmse:6.36326\n",
      "[30]\tvalidation-rmse:6.36535\n",
      "[31]\tvalidation-rmse:6.36252\n"
     ]
    },
    {
     "name": "stderr",
     "output_type": "stream",
     "text": [
      "c:\\Users\\ivanm\\5to Semestre\\Proyecto de Ciencia de Datos\\nyc-taxi-predictions-2025\\.venv\\Lib\\site-packages\\mlflow\\xgboost\\__init__.py:169: UserWarning: [20:32:40] WARNING: C:\\actions-runner\\_work\\xgboost\\xgboost\\src\\c_api\\c_api.cc:1575: Saving model in the UBJSON format as default.  You can use a file extension: `json` or `ubj` to choose between formats.\n",
      "  xgb_model.save_model(model_data_path)\n",
      "2025/10/28 20:32:46 WARNING mlflow.utils.environment: Failed to resolve installed pip version. ``pip`` will be added to conda.yaml environment spec without a version specifier.\n"
     ]
    },
    {
     "data": {
      "application/vnd.jupyter.widget-view+json": {
       "model_id": "e43a38c50d9e42cc88110715feed592d",
       "version_major": 2,
       "version_minor": 0
      },
      "text/plain": [
       "Downloading artifacts:   0%|          | 0/7 [00:00<?, ?it/s]"
      ]
     },
     "metadata": {},
     "output_type": "display_data"
    },
    {
     "name": "stderr",
     "output_type": "stream",
     "text": [
      "c:\\Users\\ivanm\\5to Semestre\\Proyecto de Ciencia de Datos\\nyc-taxi-predictions-2025\\.venv\\Lib\\site-packages\\mlflow\\xgboost\\__init__.py:321: UserWarning: [20:32:46] WARNING: C:\\actions-runner\\_work\\xgboost\\xgboost\\src\\c_api\\c_api.cc:1511: Unknown file format: `xgb`. Using UBJSON (`ubj`) as a guess.\n",
      "  model.load_model(xgb_model_path)\n",
      "[I 2025-10-28 20:32:48,248] Trial 2 finished with value: 6.362498610758229 and parameters: {'max_depth': 5, 'learning_rate': 0.9136840519292247, 'reg_alpha': 0.18820387978911576, 'reg_lambda': 0.007166739666045858, 'min_child_weight': 0.7613210498541186}. Best is trial 1 with value: 6.342751049216642.\n"
     ]
    },
    {
     "name": "stdout",
     "output_type": "stream",
     "text": [
      "🏃 View run rare-smelt-432 at: https://dbc-ed7122c4-c5b7.cloud.databricks.com/ml/experiments/2414141065980596/runs/911f83c347e74616ad2b11d55591d2da\n",
      "🧪 View experiment at: https://dbc-ed7122c4-c5b7.cloud.databricks.com/ml/experiments/2414141065980596\n",
      "[0]\tvalidation-rmse:9.04875\n",
      "[1]\tvalidation-rmse:8.48014\n",
      "[2]\tvalidation-rmse:8.00174\n",
      "[3]\tvalidation-rmse:7.63227\n",
      "[4]\tvalidation-rmse:7.33562\n",
      "[5]\tvalidation-rmse:7.09551\n",
      "[6]\tvalidation-rmse:6.91687\n",
      "[7]\tvalidation-rmse:6.76362\n",
      "[8]\tvalidation-rmse:6.65808\n",
      "[9]\tvalidation-rmse:6.57570\n",
      "[10]\tvalidation-rmse:6.52171\n",
      "[11]\tvalidation-rmse:6.47661\n",
      "[12]\tvalidation-rmse:6.44133\n",
      "[13]\tvalidation-rmse:6.41692\n",
      "[14]\tvalidation-rmse:6.39647\n",
      "[15]\tvalidation-rmse:6.38382\n",
      "[16]\tvalidation-rmse:6.37170\n",
      "[17]\tvalidation-rmse:6.36426\n",
      "[18]\tvalidation-rmse:6.35918\n",
      "[19]\tvalidation-rmse:6.35468\n",
      "[20]\tvalidation-rmse:6.35233\n",
      "[21]\tvalidation-rmse:6.35011\n",
      "[22]\tvalidation-rmse:6.34931\n",
      "[23]\tvalidation-rmse:6.34779\n",
      "[24]\tvalidation-rmse:6.34820\n",
      "[25]\tvalidation-rmse:6.34779\n",
      "[26]\tvalidation-rmse:6.34779\n",
      "[27]\tvalidation-rmse:6.34757\n",
      "[28]\tvalidation-rmse:6.34758\n",
      "[29]\tvalidation-rmse:6.34800\n",
      "[30]\tvalidation-rmse:6.34835\n",
      "[31]\tvalidation-rmse:6.34838\n",
      "[32]\tvalidation-rmse:6.34877\n",
      "[33]\tvalidation-rmse:6.34892\n",
      "[34]\tvalidation-rmse:6.34911\n",
      "[35]\tvalidation-rmse:6.34916\n",
      "[36]\tvalidation-rmse:6.34931\n"
     ]
    },
    {
     "name": "stderr",
     "output_type": "stream",
     "text": [
      "c:\\Users\\ivanm\\5to Semestre\\Proyecto de Ciencia de Datos\\nyc-taxi-predictions-2025\\.venv\\Lib\\site-packages\\mlflow\\xgboost\\__init__.py:169: UserWarning: [20:32:56] WARNING: C:\\actions-runner\\_work\\xgboost\\xgboost\\src\\c_api\\c_api.cc:1575: Saving model in the UBJSON format as default.  You can use a file extension: `json` or `ubj` to choose between formats.\n",
      "  xgb_model.save_model(model_data_path)\n",
      "2025/10/28 20:33:01 WARNING mlflow.utils.environment: Failed to resolve installed pip version. ``pip`` will be added to conda.yaml environment spec without a version specifier.\n"
     ]
    },
    {
     "data": {
      "application/vnd.jupyter.widget-view+json": {
       "model_id": "f2b1403e795a4e84992664c1533134d1",
       "version_major": 2,
       "version_minor": 0
      },
      "text/plain": [
       "Downloading artifacts:   0%|          | 0/7 [00:00<?, ?it/s]"
      ]
     },
     "metadata": {},
     "output_type": "display_data"
    },
    {
     "name": "stderr",
     "output_type": "stream",
     "text": [
      "c:\\Users\\ivanm\\5to Semestre\\Proyecto de Ciencia de Datos\\nyc-taxi-predictions-2025\\.venv\\Lib\\site-packages\\mlflow\\xgboost\\__init__.py:321: UserWarning: [20:33:01] WARNING: C:\\actions-runner\\_work\\xgboost\\xgboost\\src\\c_api\\c_api.cc:1511: Unknown file format: `xgb`. Using UBJSON (`ubj`) as a guess.\n",
      "  model.load_model(xgb_model_path)\n",
      "[I 2025-10-28 20:33:07,171] Trial 3 finished with value: 6.349492328945935 and parameters: {'max_depth': 21, 'learning_rate': 0.12402485733085497, 'reg_alpha': 0.054969638498598095, 'reg_lambda': 0.02148769342025257, 'min_child_weight': 1.1792947151892554}. Best is trial 1 with value: 6.342751049216642.\n"
     ]
    },
    {
     "name": "stdout",
     "output_type": "stream",
     "text": [
      "🏃 View run whimsical-jay-309 at: https://dbc-ed7122c4-c5b7.cloud.databricks.com/ml/experiments/2414141065980596/runs/2611f4f463fa48cdbc407ec017a760b4\n",
      "🧪 View experiment at: https://dbc-ed7122c4-c5b7.cloud.databricks.com/ml/experiments/2414141065980596\n",
      "[0]\tvalidation-rmse:9.28312\n",
      "[1]\tvalidation-rmse:8.87218\n",
      "[2]\tvalidation-rmse:8.51389\n",
      "[3]\tvalidation-rmse:8.19673\n",
      "[4]\tvalidation-rmse:7.93536\n",
      "[5]\tvalidation-rmse:7.69780\n",
      "[6]\tvalidation-rmse:7.48470\n",
      "[7]\tvalidation-rmse:7.32400\n",
      "[8]\tvalidation-rmse:7.18195\n",
      "[9]\tvalidation-rmse:7.06050\n",
      "[10]\tvalidation-rmse:6.96124\n",
      "[11]\tvalidation-rmse:6.88069\n",
      "[12]\tvalidation-rmse:6.81242\n",
      "[13]\tvalidation-rmse:6.74873\n",
      "[14]\tvalidation-rmse:6.70301\n",
      "[15]\tvalidation-rmse:6.66827\n",
      "[16]\tvalidation-rmse:6.64371\n",
      "[17]\tvalidation-rmse:6.62069\n",
      "[18]\tvalidation-rmse:6.60329\n",
      "[19]\tvalidation-rmse:6.59396\n",
      "[20]\tvalidation-rmse:6.58741\n",
      "[21]\tvalidation-rmse:6.58493\n",
      "[22]\tvalidation-rmse:6.58219\n",
      "[23]\tvalidation-rmse:6.58118\n",
      "[24]\tvalidation-rmse:6.57783\n",
      "[25]\tvalidation-rmse:6.57520\n",
      "[26]\tvalidation-rmse:6.57642\n",
      "[27]\tvalidation-rmse:6.57694\n",
      "[28]\tvalidation-rmse:6.58226\n",
      "[29]\tvalidation-rmse:6.58474\n",
      "[30]\tvalidation-rmse:6.58797\n",
      "[31]\tvalidation-rmse:6.58953\n",
      "[32]\tvalidation-rmse:6.59299\n",
      "[33]\tvalidation-rmse:6.59606\n",
      "[34]\tvalidation-rmse:6.60123\n",
      "[35]\tvalidation-rmse:6.60308\n"
     ]
    },
    {
     "name": "stderr",
     "output_type": "stream",
     "text": [
      "c:\\Users\\ivanm\\5to Semestre\\Proyecto de Ciencia de Datos\\nyc-taxi-predictions-2025\\.venv\\Lib\\site-packages\\mlflow\\xgboost\\__init__.py:169: UserWarning: [20:33:23] WARNING: C:\\actions-runner\\_work\\xgboost\\xgboost\\src\\c_api\\c_api.cc:1575: Saving model in the UBJSON format as default.  You can use a file extension: `json` or `ubj` to choose between formats.\n",
      "  xgb_model.save_model(model_data_path)\n",
      "2025/10/28 20:33:29 WARNING mlflow.utils.environment: Failed to resolve installed pip version. ``pip`` will be added to conda.yaml environment spec without a version specifier.\n"
     ]
    },
    {
     "data": {
      "application/vnd.jupyter.widget-view+json": {
       "model_id": "c3d26cb15c384ef4905bcd891d863fcf",
       "version_major": 2,
       "version_minor": 0
      },
      "text/plain": [
       "Downloading artifacts:   0%|          | 0/7 [00:00<?, ?it/s]"
      ]
     },
     "metadata": {},
     "output_type": "display_data"
    },
    {
     "name": "stderr",
     "output_type": "stream",
     "text": [
      "c:\\Users\\ivanm\\5to Semestre\\Proyecto de Ciencia de Datos\\nyc-taxi-predictions-2025\\.venv\\Lib\\site-packages\\mlflow\\xgboost\\__init__.py:321: UserWarning: [20:33:29] WARNING: C:\\actions-runner\\_work\\xgboost\\xgboost\\src\\c_api\\c_api.cc:1511: Unknown file format: `xgb`. Using UBJSON (`ubj`) as a guess.\n",
      "  model.load_model(xgb_model_path)\n",
      "[I 2025-10-28 20:33:52,279] Trial 4 finished with value: 6.603076047502704 and parameters: {'max_depth': 63, 'learning_rate': 0.07565903471570516, 'reg_alpha': 0.021678779375600917, 'reg_lambda': 0.015480241912324163, 'min_child_weight': 2.2802382585441565}. Best is trial 1 with value: 6.342751049216642.\n"
     ]
    },
    {
     "name": "stdout",
     "output_type": "stream",
     "text": [
      "🏃 View run mysterious-tern-886 at: https://dbc-ed7122c4-c5b7.cloud.databricks.com/ml/experiments/2414141065980596/runs/fc8d838081994bfd9cf7b9bd48c7f27f\n",
      "🧪 View experiment at: https://dbc-ed7122c4-c5b7.cloud.databricks.com/ml/experiments/2414141065980596\n",
      "[0]\tvalidation-rmse:9.20277\n",
      "[1]\tvalidation-rmse:8.74255\n",
      "[2]\tvalidation-rmse:8.34117\n",
      "[3]\tvalidation-rmse:8.00725\n",
      "[4]\tvalidation-rmse:7.73580\n",
      "[5]\tvalidation-rmse:7.50561\n",
      "[6]\tvalidation-rmse:7.30006\n",
      "[7]\tvalidation-rmse:7.14771\n",
      "[8]\tvalidation-rmse:7.01802\n",
      "[9]\tvalidation-rmse:6.92437\n",
      "[10]\tvalidation-rmse:6.85499\n",
      "[11]\tvalidation-rmse:6.79653\n",
      "[12]\tvalidation-rmse:6.75475\n",
      "[13]\tvalidation-rmse:6.71663\n",
      "[14]\tvalidation-rmse:6.68683\n",
      "[15]\tvalidation-rmse:6.66302\n",
      "[16]\tvalidation-rmse:6.64757\n",
      "[17]\tvalidation-rmse:6.63263\n",
      "[18]\tvalidation-rmse:6.62531\n",
      "[19]\tvalidation-rmse:6.62252\n",
      "[20]\tvalidation-rmse:6.61705\n",
      "[21]\tvalidation-rmse:6.61592\n",
      "[22]\tvalidation-rmse:6.61780\n",
      "[23]\tvalidation-rmse:6.61948\n",
      "[24]\tvalidation-rmse:6.62396\n",
      "[25]\tvalidation-rmse:6.62790\n",
      "[26]\tvalidation-rmse:6.63052\n",
      "[27]\tvalidation-rmse:6.63637\n",
      "[28]\tvalidation-rmse:6.64078\n",
      "[29]\tvalidation-rmse:6.64548\n",
      "[30]\tvalidation-rmse:6.64666\n"
     ]
    },
    {
     "name": "stderr",
     "output_type": "stream",
     "text": [
      "c:\\Users\\ivanm\\5to Semestre\\Proyecto de Ciencia de Datos\\nyc-taxi-predictions-2025\\.venv\\Lib\\site-packages\\mlflow\\xgboost\\__init__.py:169: UserWarning: [20:34:13] WARNING: C:\\actions-runner\\_work\\xgboost\\xgboost\\src\\c_api\\c_api.cc:1575: Saving model in the UBJSON format as default.  You can use a file extension: `json` or `ubj` to choose between formats.\n",
      "  xgb_model.save_model(model_data_path)\n",
      "2025/10/28 20:34:19 WARNING mlflow.utils.environment: Failed to resolve installed pip version. ``pip`` will be added to conda.yaml environment spec without a version specifier.\n"
     ]
    },
    {
     "data": {
      "application/vnd.jupyter.widget-view+json": {
       "model_id": "9fb208d83f0d47308963b5cdf0bfe0a0",
       "version_major": 2,
       "version_minor": 0
      },
      "text/plain": [
       "Downloading artifacts:   0%|          | 0/7 [00:00<?, ?it/s]"
      ]
     },
     "metadata": {},
     "output_type": "display_data"
    },
    {
     "name": "stderr",
     "output_type": "stream",
     "text": [
      "c:\\Users\\ivanm\\5to Semestre\\Proyecto de Ciencia de Datos\\nyc-taxi-predictions-2025\\.venv\\Lib\\site-packages\\mlflow\\xgboost\\__init__.py:321: UserWarning: [20:34:19] WARNING: C:\\actions-runner\\_work\\xgboost\\xgboost\\src\\c_api\\c_api.cc:1511: Unknown file format: `xgb`. Using UBJSON (`ubj`) as a guess.\n",
      "  model.load_model(xgb_model_path)\n",
      "[I 2025-10-28 20:34:51,263] Trial 5 finished with value: 6.650083402109347 and parameters: {'max_depth': 80, 'learning_rate': 0.0906292152736207, 'reg_alpha': 0.05270408847118816, 'reg_lambda': 0.04793414660944966, 'min_child_weight': 0.4429943118354462}. Best is trial 1 with value: 6.342751049216642.\n"
     ]
    },
    {
     "name": "stdout",
     "output_type": "stream",
     "text": [
      "🏃 View run bedecked-sponge-998 at: https://dbc-ed7122c4-c5b7.cloud.databricks.com/ml/experiments/2414141065980596/runs/41ad06ca3b454ab6aa3717f379cdf3cf\n",
      "🧪 View experiment at: https://dbc-ed7122c4-c5b7.cloud.databricks.com/ml/experiments/2414141065980596\n",
      "[0]\tvalidation-rmse:9.23235\n",
      "[1]\tvalidation-rmse:8.78476\n",
      "[2]\tvalidation-rmse:8.39317\n",
      "[3]\tvalidation-rmse:8.05754\n",
      "[4]\tvalidation-rmse:7.77172\n",
      "[5]\tvalidation-rmse:7.53408\n",
      "[6]\tvalidation-rmse:7.32957\n",
      "[7]\tvalidation-rmse:7.15367\n",
      "[8]\tvalidation-rmse:7.01487\n",
      "[9]\tvalidation-rmse:6.89655\n",
      "[10]\tvalidation-rmse:6.80227\n",
      "[11]\tvalidation-rmse:6.72713\n",
      "[12]\tvalidation-rmse:6.66966\n",
      "[13]\tvalidation-rmse:6.62126\n",
      "[14]\tvalidation-rmse:6.58492\n",
      "[15]\tvalidation-rmse:6.55773\n",
      "[16]\tvalidation-rmse:6.54286\n",
      "[17]\tvalidation-rmse:6.53413\n",
      "[18]\tvalidation-rmse:6.53031\n",
      "[19]\tvalidation-rmse:6.52684\n",
      "[20]\tvalidation-rmse:6.52843\n",
      "[21]\tvalidation-rmse:6.53742\n",
      "[22]\tvalidation-rmse:6.54782\n",
      "[23]\tvalidation-rmse:6.56139\n",
      "[24]\tvalidation-rmse:6.57214\n",
      "[25]\tvalidation-rmse:6.58336\n",
      "[26]\tvalidation-rmse:6.59576\n",
      "[27]\tvalidation-rmse:6.61105\n",
      "[28]\tvalidation-rmse:6.61913\n",
      "[29]\tvalidation-rmse:6.62910\n"
     ]
    },
    {
     "name": "stderr",
     "output_type": "stream",
     "text": [
      "c:\\Users\\ivanm\\5to Semestre\\Proyecto de Ciencia de Datos\\nyc-taxi-predictions-2025\\.venv\\Lib\\site-packages\\mlflow\\xgboost\\__init__.py:169: UserWarning: [20:35:00] WARNING: C:\\actions-runner\\_work\\xgboost\\xgboost\\src\\c_api\\c_api.cc:1575: Saving model in the UBJSON format as default.  You can use a file extension: `json` or `ubj` to choose between formats.\n",
      "  xgb_model.save_model(model_data_path)\n",
      "2025/10/28 20:35:05 WARNING mlflow.utils.environment: Failed to resolve installed pip version. ``pip`` will be added to conda.yaml environment spec without a version specifier.\n"
     ]
    },
    {
     "data": {
      "application/vnd.jupyter.widget-view+json": {
       "model_id": "4432139a12a84114b94397c3622e07ad",
       "version_major": 2,
       "version_minor": 0
      },
      "text/plain": [
       "Downloading artifacts:   0%|          | 0/7 [00:00<?, ?it/s]"
      ]
     },
     "metadata": {},
     "output_type": "display_data"
    },
    {
     "name": "stderr",
     "output_type": "stream",
     "text": [
      "c:\\Users\\ivanm\\5to Semestre\\Proyecto de Ciencia de Datos\\nyc-taxi-predictions-2025\\.venv\\Lib\\site-packages\\mlflow\\xgboost\\__init__.py:321: UserWarning: [20:35:05] WARNING: C:\\actions-runner\\_work\\xgboost\\xgboost\\src\\c_api\\c_api.cc:1511: Unknown file format: `xgb`. Using UBJSON (`ubj`) as a guess.\n",
      "  model.load_model(xgb_model_path)\n",
      "[I 2025-10-28 20:35:11,726] Trial 6 finished with value: 6.629101820763897 and parameters: {'max_depth': 62, 'learning_rate': 0.08304043435235499, 'reg_alpha': 0.008740449782948887, 'reg_lambda': 0.28491274207986833, 'min_child_weight': 17.505727836123448}. Best is trial 1 with value: 6.342751049216642.\n"
     ]
    },
    {
     "name": "stdout",
     "output_type": "stream",
     "text": [
      "🏃 View run placid-lark-432 at: https://dbc-ed7122c4-c5b7.cloud.databricks.com/ml/experiments/2414141065980596/runs/e2df8cf66fa44618a9d23112aacf545b\n",
      "🧪 View experiment at: https://dbc-ed7122c4-c5b7.cloud.databricks.com/ml/experiments/2414141065980596\n",
      "[0]\tvalidation-rmse:8.95615\n",
      "[1]\tvalidation-rmse:8.31807\n",
      "[2]\tvalidation-rmse:7.81873\n",
      "[3]\tvalidation-rmse:7.43947\n",
      "[4]\tvalidation-rmse:7.15846\n",
      "[5]\tvalidation-rmse:6.96133\n",
      "[6]\tvalidation-rmse:6.82004\n",
      "[7]\tvalidation-rmse:6.72364\n",
      "[8]\tvalidation-rmse:6.66616\n",
      "[9]\tvalidation-rmse:6.63605\n",
      "[10]\tvalidation-rmse:6.61378\n",
      "[11]\tvalidation-rmse:6.61490\n",
      "[12]\tvalidation-rmse:6.63143\n",
      "[13]\tvalidation-rmse:6.65196\n",
      "[14]\tvalidation-rmse:6.67964\n",
      "[15]\tvalidation-rmse:6.69743\n",
      "[16]\tvalidation-rmse:6.72889\n",
      "[17]\tvalidation-rmse:6.74373\n",
      "[18]\tvalidation-rmse:6.76521\n",
      "[19]\tvalidation-rmse:6.78378\n",
      "[20]\tvalidation-rmse:6.79300\n"
     ]
    },
    {
     "name": "stderr",
     "output_type": "stream",
     "text": [
      "c:\\Users\\ivanm\\5to Semestre\\Proyecto de Ciencia de Datos\\nyc-taxi-predictions-2025\\.venv\\Lib\\site-packages\\mlflow\\xgboost\\__init__.py:169: UserWarning: [20:35:25] WARNING: C:\\actions-runner\\_work\\xgboost\\xgboost\\src\\c_api\\c_api.cc:1575: Saving model in the UBJSON format as default.  You can use a file extension: `json` or `ubj` to choose between formats.\n",
      "  xgb_model.save_model(model_data_path)\n",
      "2025/10/28 20:35:30 WARNING mlflow.utils.environment: Failed to resolve installed pip version. ``pip`` will be added to conda.yaml environment spec without a version specifier.\n"
     ]
    },
    {
     "data": {
      "application/vnd.jupyter.widget-view+json": {
       "model_id": "025d252d00884f939b13eac28734f8df",
       "version_major": 2,
       "version_minor": 0
      },
      "text/plain": [
       "Downloading artifacts:   0%|          | 0/7 [00:00<?, ?it/s]"
      ]
     },
     "metadata": {},
     "output_type": "display_data"
    },
    {
     "name": "stderr",
     "output_type": "stream",
     "text": [
      "c:\\Users\\ivanm\\5to Semestre\\Proyecto de Ciencia de Datos\\nyc-taxi-predictions-2025\\.venv\\Lib\\site-packages\\mlflow\\xgboost\\__init__.py:321: UserWarning: [20:35:31] WARNING: C:\\actions-runner\\_work\\xgboost\\xgboost\\src\\c_api\\c_api.cc:1511: Unknown file format: `xgb`. Using UBJSON (`ubj`) as a guess.\n",
      "  model.load_model(xgb_model_path)\n",
      "[I 2025-10-28 20:35:46,375] Trial 7 finished with value: 6.792999954456445 and parameters: {'max_depth': 82, 'learning_rate': 0.12416316985362412, 'reg_alpha': 0.009958672056108932, 'reg_lambda': 0.0758623422350637, 'min_child_weight': 2.1395809133199974}. Best is trial 1 with value: 6.342751049216642.\n"
     ]
    },
    {
     "name": "stdout",
     "output_type": "stream",
     "text": [
      "🏃 View run clean-bee-301 at: https://dbc-ed7122c4-c5b7.cloud.databricks.com/ml/experiments/2414141065980596/runs/0402fbe2cd7546abad320c23adfb907f\n",
      "🧪 View experiment at: https://dbc-ed7122c4-c5b7.cloud.databricks.com/ml/experiments/2414141065980596\n",
      "[0]\tvalidation-rmse:8.52376\n",
      "[1]\tvalidation-rmse:7.69808\n",
      "[2]\tvalidation-rmse:7.19196\n",
      "[3]\tvalidation-rmse:6.84405\n",
      "[4]\tvalidation-rmse:6.63461\n",
      "[5]\tvalidation-rmse:6.50842\n",
      "[6]\tvalidation-rmse:6.44035\n",
      "[7]\tvalidation-rmse:6.39662\n",
      "[8]\tvalidation-rmse:6.37150\n",
      "[9]\tvalidation-rmse:6.35578\n",
      "[10]\tvalidation-rmse:6.34785\n",
      "[11]\tvalidation-rmse:6.34450\n",
      "[12]\tvalidation-rmse:6.34313\n",
      "[13]\tvalidation-rmse:6.34291\n",
      "[14]\tvalidation-rmse:6.34245\n",
      "[15]\tvalidation-rmse:6.34176\n",
      "[16]\tvalidation-rmse:6.34227\n",
      "[17]\tvalidation-rmse:6.34252\n",
      "[18]\tvalidation-rmse:6.34298\n",
      "[19]\tvalidation-rmse:6.34306\n",
      "[20]\tvalidation-rmse:6.34306\n",
      "[21]\tvalidation-rmse:6.34337\n",
      "[22]\tvalidation-rmse:6.34348\n",
      "[23]\tvalidation-rmse:6.34357\n",
      "[24]\tvalidation-rmse:6.34355\n",
      "[25]\tvalidation-rmse:6.34399\n"
     ]
    },
    {
     "name": "stderr",
     "output_type": "stream",
     "text": [
      "c:\\Users\\ivanm\\5to Semestre\\Proyecto de Ciencia de Datos\\nyc-taxi-predictions-2025\\.venv\\Lib\\site-packages\\mlflow\\xgboost\\__init__.py:169: UserWarning: [20:35:52] WARNING: C:\\actions-runner\\_work\\xgboost\\xgboost\\src\\c_api\\c_api.cc:1575: Saving model in the UBJSON format as default.  You can use a file extension: `json` or `ubj` to choose between formats.\n",
      "  xgb_model.save_model(model_data_path)\n",
      "2025/10/28 20:35:58 WARNING mlflow.utils.environment: Failed to resolve installed pip version. ``pip`` will be added to conda.yaml environment spec without a version specifier.\n"
     ]
    },
    {
     "data": {
      "application/vnd.jupyter.widget-view+json": {
       "model_id": "51bd5e0306ec4554bc91b1e85842ca20",
       "version_major": 2,
       "version_minor": 0
      },
      "text/plain": [
       "Downloading artifacts:   0%|          | 0/7 [00:00<?, ?it/s]"
      ]
     },
     "metadata": {},
     "output_type": "display_data"
    },
    {
     "name": "stderr",
     "output_type": "stream",
     "text": [
      "c:\\Users\\ivanm\\5to Semestre\\Proyecto de Ciencia de Datos\\nyc-taxi-predictions-2025\\.venv\\Lib\\site-packages\\mlflow\\xgboost\\__init__.py:321: UserWarning: [20:35:58] WARNING: C:\\actions-runner\\_work\\xgboost\\xgboost\\src\\c_api\\c_api.cc:1511: Unknown file format: `xgb`. Using UBJSON (`ubj`) as a guess.\n",
      "  model.load_model(xgb_model_path)\n"
     ]
    },
    {
     "name": "stdout",
     "output_type": "stream",
     "text": [
      "🏃 View run enchanting-shad-960 at: https://dbc-ed7122c4-c5b7.cloud.databricks.com/ml/experiments/2414141065980596/runs/5a8d8c52039340dd921ca1632d565da4\n",
      "🧪 View experiment at: https://dbc-ed7122c4-c5b7.cloud.databricks.com/ml/experiments/2414141065980596\n"
     ]
    },
    {
     "name": "stderr",
     "output_type": "stream",
     "text": [
      "[W 2025-10-28 20:36:00,435] Trial 8 failed with parameters: {'max_depth': 15, 'learning_rate': 0.21992487468175848, 'reg_alpha': 0.007731550026907306, 'reg_lambda': 0.23377457337376373, 'min_child_weight': 1.0357439143907545} because of the following error: KeyboardInterrupt().\n",
      "Traceback (most recent call last):\n",
      "  File \"c:\\Users\\ivanm\\5to Semestre\\Proyecto de Ciencia de Datos\\nyc-taxi-predictions-2025\\.venv\\Lib\\site-packages\\optuna\\study\\_optimize.py\", line 201, in _run_trial\n",
      "    value_or_values = func(trial)\n",
      "  File \"C:\\Users\\ivanm\\AppData\\Local\\Temp\\ipykernel_13348\\3894802457.py\", line 48, in objective\n",
      "    mlflow.xgboost.log_model(\n",
      "    ~~~~~~~~~~~~~~~~~~~~~~~~^\n",
      "        booster,\n",
      "        ^^^^^^^^\n",
      "    ...<2 lines>...\n",
      "        signature=signature\n",
      "        ^^^^^^^^^^^^^^^^^^^\n",
      "    )\n",
      "    ^\n",
      "  File \"c:\\Users\\ivanm\\5to Semestre\\Proyecto de Ciencia de Datos\\nyc-taxi-predictions-2025\\.venv\\Lib\\site-packages\\mlflow\\xgboost\\__init__.py\", line 279, in log_model\n",
      "    return Model.log(\n",
      "           ~~~~~~~~~^\n",
      "        artifact_path=artifact_path,\n",
      "        ^^^^^^^^^^^^^^^^^^^^^^^^^^^^\n",
      "    ...<18 lines>...\n",
      "        **kwargs,\n",
      "        ^^^^^^^^^\n",
      "    )\n",
      "    ^\n",
      "  File \"c:\\Users\\ivanm\\5to Semestre\\Proyecto de Ciencia de Datos\\nyc-taxi-predictions-2025\\.venv\\Lib\\site-packages\\mlflow\\models\\model.py\", line 1302, in log\n",
      "    client.log_model_artifacts(model.model_id, local_path)\n",
      "    ~~~~~~~~~~~~~~~~~~~~~~~~~~^^^^^^^^^^^^^^^^^^^^^^^^^^^^\n",
      "  File \"c:\\Users\\ivanm\\5to Semestre\\Proyecto de Ciencia de Datos\\nyc-taxi-predictions-2025\\.venv\\Lib\\site-packages\\mlflow\\tracking\\client.py\", line 5589, in log_model_artifacts\n",
      "    return self._tracking_client.log_model_artifacts(model_id, local_dir)\n",
      "           ~~~~~~~~~~~~~~~~~~~~~~~~~~~~~~~~~~~~~~~~~^^^^^^^^^^^^^^^^^^^^^\n",
      "  File \"c:\\Users\\ivanm\\5to Semestre\\Proyecto de Ciencia de Datos\\nyc-taxi-predictions-2025\\.venv\\Lib\\site-packages\\mlflow\\tracking\\_tracking_service\\client.py\", line 910, in log_model_artifacts\n",
      "    self._get_artifact_repo(model_id, resource=\"logged_model\").log_artifacts(local_dir)\n",
      "    ~~~~~~~~~~~~~~~~~~~~~~~~~~~~~~~~~~~~~~~~~~~~~~~~~~~~~~~~~~~~~~~~~~~~~~~~^^^^^^^^^^^\n",
      "  File \"c:\\Users\\ivanm\\5to Semestre\\Proyecto de Ciencia de Datos\\nyc-taxi-predictions-2025\\.venv\\Lib\\site-packages\\mlflow\\store\\artifact\\databricks_tracking_artifact_repo.py\", line 68, in log_artifacts\n",
      "    self.databricks_sdk_repo.log_artifacts(local_dir, artifact_path)\n",
      "    ~~~~~~~~~~~~~~~~~~~~~~~~~~~~~~~~~~~~~~^^^^^^^^^^^^^^^^^^^^^^^^^^\n",
      "  File \"c:\\Users\\ivanm\\5to Semestre\\Proyecto de Ciencia de Datos\\nyc-taxi-predictions-2025\\.venv\\Lib\\site-packages\\mlflow\\store\\artifact\\databricks_sdk_artifact_repo.py\", line 91, in log_artifacts\n",
      "    with self._create_thread_pool() as executor:\n",
      "         ~~~~~~~~~~~~~~~~~~~~~~~~^^\n",
      "  File \"C:\\Users\\ivanm\\AppData\\Local\\Programs\\Python\\Python313\\Lib\\concurrent\\futures\\_base.py\", line 647, in __exit__\n",
      "    self.shutdown(wait=True)\n",
      "    ~~~~~~~~~~~~~^^^^^^^^^^^\n",
      "  File \"C:\\Users\\ivanm\\AppData\\Local\\Programs\\Python\\Python313\\Lib\\concurrent\\futures\\thread.py\", line 239, in shutdown\n",
      "    t.join()\n",
      "    ~~~~~~^^\n",
      "  File \"C:\\Users\\ivanm\\AppData\\Local\\Programs\\Python\\Python313\\Lib\\threading.py\", line 1094, in join\n",
      "    self._handle.join(timeout)\n",
      "    ~~~~~~~~~~~~~~~~~^^^^^^^^^\n",
      "KeyboardInterrupt\n",
      "[W 2025-10-28 20:36:00,536] Trial 8 failed with value None.\n"
     ]
    },
    {
     "name": "stdout",
     "output_type": "stream",
     "text": [
      "🏃 View run XGBoost Hyperparameter Optimization (Optuna) at: https://dbc-ed7122c4-c5b7.cloud.databricks.com/ml/experiments/2414141065980596/runs/5370f6320cd8408b96f24ea9f9076423\n",
      "🧪 View experiment at: https://dbc-ed7122c4-c5b7.cloud.databricks.com/ml/experiments/2414141065980596\n"
     ]
    },
    {
     "ename": "KeyboardInterrupt",
     "evalue": "",
     "output_type": "error",
     "traceback": [
      "\u001b[31m---------------------------------------------------------------------------\u001b[39m",
      "\u001b[31mKeyboardInterrupt\u001b[39m                         Traceback (most recent call last)",
      "\u001b[36mCell\u001b[39m\u001b[36m \u001b[39m\u001b[32mIn[13]\u001b[39m\u001b[32m, line 17\u001b[39m\n\u001b[32m     11\u001b[39m \u001b[38;5;66;03m# ------------------------------------------------------------\u001b[39;00m\n\u001b[32m     12\u001b[39m \u001b[38;5;66;03m# Ejecutar la optimización (n_trials = número de intentos)\u001b[39;00m\n\u001b[32m     13\u001b[39m \u001b[38;5;66;03m#    - Cada trial ejecuta la función objetivo con un set distinto de hiperparámetros.\u001b[39;00m\n\u001b[32m     14\u001b[39m \u001b[38;5;66;03m#    - Abrimos un run \"padre\" para agrupar toda la búsqueda.\u001b[39;00m\n\u001b[32m     15\u001b[39m \u001b[38;5;66;03m# ------------------------------------------------------------\u001b[39;00m\n\u001b[32m     16\u001b[39m \u001b[38;5;28;01mwith\u001b[39;00m mlflow.start_run(run_name=\u001b[33m\"\u001b[39m\u001b[33mXGBoost Hyperparameter Optimization (Optuna)\u001b[39m\u001b[33m\"\u001b[39m, nested=\u001b[38;5;28;01mTrue\u001b[39;00m):\n\u001b[32m---> \u001b[39m\u001b[32m17\u001b[39m     \u001b[43mstudy\u001b[49m\u001b[43m.\u001b[49m\u001b[43moptimize\u001b[49m\u001b[43m(\u001b[49m\u001b[43mobjective\u001b[49m\u001b[43m,\u001b[49m\u001b[43m \u001b[49m\u001b[43mn_trials\u001b[49m\u001b[43m=\u001b[49m\u001b[32;43m10\u001b[39;49m\u001b[43m)\u001b[49m\n\u001b[32m     19\u001b[39m     \u001b[38;5;66;03m# --------------------------------------------------------\u001b[39;00m\n\u001b[32m     20\u001b[39m     \u001b[38;5;66;03m# Recuperar y registrar los mejores hiperparámetros\u001b[39;00m\n\u001b[32m     21\u001b[39m     \u001b[38;5;66;03m# --------------------------------------------------------\u001b[39;00m\n\u001b[32m     22\u001b[39m     best_params = study.best_params\n",
      "\u001b[36mFile \u001b[39m\u001b[32mc:\\Users\\ivanm\\5to Semestre\\Proyecto de Ciencia de Datos\\nyc-taxi-predictions-2025\\.venv\\Lib\\site-packages\\optuna\\study\\study.py:490\u001b[39m, in \u001b[36mStudy.optimize\u001b[39m\u001b[34m(self, func, n_trials, timeout, n_jobs, catch, callbacks, gc_after_trial, show_progress_bar)\u001b[39m\n\u001b[32m    388\u001b[39m \u001b[38;5;28;01mdef\u001b[39;00m\u001b[38;5;250m \u001b[39m\u001b[34moptimize\u001b[39m(\n\u001b[32m    389\u001b[39m     \u001b[38;5;28mself\u001b[39m,\n\u001b[32m    390\u001b[39m     func: ObjectiveFuncType,\n\u001b[32m   (...)\u001b[39m\u001b[32m    397\u001b[39m     show_progress_bar: \u001b[38;5;28mbool\u001b[39m = \u001b[38;5;28;01mFalse\u001b[39;00m,\n\u001b[32m    398\u001b[39m ) -> \u001b[38;5;28;01mNone\u001b[39;00m:\n\u001b[32m    399\u001b[39m \u001b[38;5;250m    \u001b[39m\u001b[33;03m\"\"\"Optimize an objective function.\u001b[39;00m\n\u001b[32m    400\u001b[39m \n\u001b[32m    401\u001b[39m \u001b[33;03m    Optimization is done by choosing a suitable set of hyperparameter values from a given\u001b[39;00m\n\u001b[32m   (...)\u001b[39m\u001b[32m    488\u001b[39m \u001b[33;03m            If nested invocation of this method occurs.\u001b[39;00m\n\u001b[32m    489\u001b[39m \u001b[33;03m    \"\"\"\u001b[39;00m\n\u001b[32m--> \u001b[39m\u001b[32m490\u001b[39m     \u001b[43m_optimize\u001b[49m\u001b[43m(\u001b[49m\n\u001b[32m    491\u001b[39m \u001b[43m        \u001b[49m\u001b[43mstudy\u001b[49m\u001b[43m=\u001b[49m\u001b[38;5;28;43mself\u001b[39;49m\u001b[43m,\u001b[49m\n\u001b[32m    492\u001b[39m \u001b[43m        \u001b[49m\u001b[43mfunc\u001b[49m\u001b[43m=\u001b[49m\u001b[43mfunc\u001b[49m\u001b[43m,\u001b[49m\n\u001b[32m    493\u001b[39m \u001b[43m        \u001b[49m\u001b[43mn_trials\u001b[49m\u001b[43m=\u001b[49m\u001b[43mn_trials\u001b[49m\u001b[43m,\u001b[49m\n\u001b[32m    494\u001b[39m \u001b[43m        \u001b[49m\u001b[43mtimeout\u001b[49m\u001b[43m=\u001b[49m\u001b[43mtimeout\u001b[49m\u001b[43m,\u001b[49m\n\u001b[32m    495\u001b[39m \u001b[43m        \u001b[49m\u001b[43mn_jobs\u001b[49m\u001b[43m=\u001b[49m\u001b[43mn_jobs\u001b[49m\u001b[43m,\u001b[49m\n\u001b[32m    496\u001b[39m \u001b[43m        \u001b[49m\u001b[43mcatch\u001b[49m\u001b[43m=\u001b[49m\u001b[38;5;28;43mtuple\u001b[39;49m\u001b[43m(\u001b[49m\u001b[43mcatch\u001b[49m\u001b[43m)\u001b[49m\u001b[43m \u001b[49m\u001b[38;5;28;43;01mif\u001b[39;49;00m\u001b[43m \u001b[49m\u001b[38;5;28;43misinstance\u001b[39;49m\u001b[43m(\u001b[49m\u001b[43mcatch\u001b[49m\u001b[43m,\u001b[49m\u001b[43m \u001b[49m\u001b[43mIterable\u001b[49m\u001b[43m)\u001b[49m\u001b[43m \u001b[49m\u001b[38;5;28;43;01melse\u001b[39;49;00m\u001b[43m \u001b[49m\u001b[43m(\u001b[49m\u001b[43mcatch\u001b[49m\u001b[43m,\u001b[49m\u001b[43m)\u001b[49m\u001b[43m,\u001b[49m\n\u001b[32m    497\u001b[39m \u001b[43m        \u001b[49m\u001b[43mcallbacks\u001b[49m\u001b[43m=\u001b[49m\u001b[43mcallbacks\u001b[49m\u001b[43m,\u001b[49m\n\u001b[32m    498\u001b[39m \u001b[43m        \u001b[49m\u001b[43mgc_after_trial\u001b[49m\u001b[43m=\u001b[49m\u001b[43mgc_after_trial\u001b[49m\u001b[43m,\u001b[49m\n\u001b[32m    499\u001b[39m \u001b[43m        \u001b[49m\u001b[43mshow_progress_bar\u001b[49m\u001b[43m=\u001b[49m\u001b[43mshow_progress_bar\u001b[49m\u001b[43m,\u001b[49m\n\u001b[32m    500\u001b[39m \u001b[43m    \u001b[49m\u001b[43m)\u001b[49m\n",
      "\u001b[36mFile \u001b[39m\u001b[32mc:\\Users\\ivanm\\5to Semestre\\Proyecto de Ciencia de Datos\\nyc-taxi-predictions-2025\\.venv\\Lib\\site-packages\\optuna\\study\\_optimize.py:63\u001b[39m, in \u001b[36m_optimize\u001b[39m\u001b[34m(study, func, n_trials, timeout, n_jobs, catch, callbacks, gc_after_trial, show_progress_bar)\u001b[39m\n\u001b[32m     61\u001b[39m \u001b[38;5;28;01mtry\u001b[39;00m:\n\u001b[32m     62\u001b[39m     \u001b[38;5;28;01mif\u001b[39;00m n_jobs == \u001b[32m1\u001b[39m:\n\u001b[32m---> \u001b[39m\u001b[32m63\u001b[39m         \u001b[43m_optimize_sequential\u001b[49m\u001b[43m(\u001b[49m\n\u001b[32m     64\u001b[39m \u001b[43m            \u001b[49m\u001b[43mstudy\u001b[49m\u001b[43m,\u001b[49m\n\u001b[32m     65\u001b[39m \u001b[43m            \u001b[49m\u001b[43mfunc\u001b[49m\u001b[43m,\u001b[49m\n\u001b[32m     66\u001b[39m \u001b[43m            \u001b[49m\u001b[43mn_trials\u001b[49m\u001b[43m,\u001b[49m\n\u001b[32m     67\u001b[39m \u001b[43m            \u001b[49m\u001b[43mtimeout\u001b[49m\u001b[43m,\u001b[49m\n\u001b[32m     68\u001b[39m \u001b[43m            \u001b[49m\u001b[43mcatch\u001b[49m\u001b[43m,\u001b[49m\n\u001b[32m     69\u001b[39m \u001b[43m            \u001b[49m\u001b[43mcallbacks\u001b[49m\u001b[43m,\u001b[49m\n\u001b[32m     70\u001b[39m \u001b[43m            \u001b[49m\u001b[43mgc_after_trial\u001b[49m\u001b[43m,\u001b[49m\n\u001b[32m     71\u001b[39m \u001b[43m            \u001b[49m\u001b[43mreseed_sampler_rng\u001b[49m\u001b[43m=\u001b[49m\u001b[38;5;28;43;01mFalse\u001b[39;49;00m\u001b[43m,\u001b[49m\n\u001b[32m     72\u001b[39m \u001b[43m            \u001b[49m\u001b[43mtime_start\u001b[49m\u001b[43m=\u001b[49m\u001b[38;5;28;43;01mNone\u001b[39;49;00m\u001b[43m,\u001b[49m\n\u001b[32m     73\u001b[39m \u001b[43m            \u001b[49m\u001b[43mprogress_bar\u001b[49m\u001b[43m=\u001b[49m\u001b[43mprogress_bar\u001b[49m\u001b[43m,\u001b[49m\n\u001b[32m     74\u001b[39m \u001b[43m        \u001b[49m\u001b[43m)\u001b[49m\n\u001b[32m     75\u001b[39m     \u001b[38;5;28;01melse\u001b[39;00m:\n\u001b[32m     76\u001b[39m         \u001b[38;5;28;01mif\u001b[39;00m n_jobs == -\u001b[32m1\u001b[39m:\n",
      "\u001b[36mFile \u001b[39m\u001b[32mc:\\Users\\ivanm\\5to Semestre\\Proyecto de Ciencia de Datos\\nyc-taxi-predictions-2025\\.venv\\Lib\\site-packages\\optuna\\study\\_optimize.py:160\u001b[39m, in \u001b[36m_optimize_sequential\u001b[39m\u001b[34m(study, func, n_trials, timeout, catch, callbacks, gc_after_trial, reseed_sampler_rng, time_start, progress_bar)\u001b[39m\n\u001b[32m    157\u001b[39m         \u001b[38;5;28;01mbreak\u001b[39;00m\n\u001b[32m    159\u001b[39m \u001b[38;5;28;01mtry\u001b[39;00m:\n\u001b[32m--> \u001b[39m\u001b[32m160\u001b[39m     frozen_trial_id = \u001b[43m_run_trial\u001b[49m\u001b[43m(\u001b[49m\u001b[43mstudy\u001b[49m\u001b[43m,\u001b[49m\u001b[43m \u001b[49m\u001b[43mfunc\u001b[49m\u001b[43m,\u001b[49m\u001b[43m \u001b[49m\u001b[43mcatch\u001b[49m\u001b[43m)\u001b[49m\n\u001b[32m    161\u001b[39m \u001b[38;5;28;01mfinally\u001b[39;00m:\n\u001b[32m    162\u001b[39m     \u001b[38;5;66;03m# The following line mitigates memory problems that can be occurred in some\u001b[39;00m\n\u001b[32m    163\u001b[39m     \u001b[38;5;66;03m# environments (e.g., services that use computing containers such as GitHub Actions).\u001b[39;00m\n\u001b[32m    164\u001b[39m     \u001b[38;5;66;03m# Please refer to the following PR for further details:\u001b[39;00m\n\u001b[32m    165\u001b[39m     \u001b[38;5;66;03m# https://github.com/optuna/optuna/pull/325.\u001b[39;00m\n\u001b[32m    166\u001b[39m     \u001b[38;5;28;01mif\u001b[39;00m gc_after_trial:\n",
      "\u001b[36mFile \u001b[39m\u001b[32mc:\\Users\\ivanm\\5to Semestre\\Proyecto de Ciencia de Datos\\nyc-taxi-predictions-2025\\.venv\\Lib\\site-packages\\optuna\\study\\_optimize.py:258\u001b[39m, in \u001b[36m_run_trial\u001b[39m\u001b[34m(study, func, catch)\u001b[39m\n\u001b[32m    251\u001b[39m         \u001b[38;5;28;01massert\u001b[39;00m \u001b[38;5;28;01mFalse\u001b[39;00m, \u001b[33m\"\u001b[39m\u001b[33mShould not reach.\u001b[39m\u001b[33m\"\u001b[39m\n\u001b[32m    253\u001b[39m \u001b[38;5;28;01mif\u001b[39;00m (\n\u001b[32m    254\u001b[39m     updated_state == TrialState.FAIL\n\u001b[32m    255\u001b[39m     \u001b[38;5;129;01mand\u001b[39;00m func_err \u001b[38;5;129;01mis\u001b[39;00m \u001b[38;5;129;01mnot\u001b[39;00m \u001b[38;5;28;01mNone\u001b[39;00m\n\u001b[32m    256\u001b[39m     \u001b[38;5;129;01mand\u001b[39;00m \u001b[38;5;129;01mnot\u001b[39;00m \u001b[38;5;28misinstance\u001b[39m(func_err, catch)\n\u001b[32m    257\u001b[39m ):\n\u001b[32m--> \u001b[39m\u001b[32m258\u001b[39m     \u001b[38;5;28;01mraise\u001b[39;00m func_err\n\u001b[32m    259\u001b[39m \u001b[38;5;28;01mreturn\u001b[39;00m trial._trial_id\n",
      "\u001b[36mFile \u001b[39m\u001b[32mc:\\Users\\ivanm\\5to Semestre\\Proyecto de Ciencia de Datos\\nyc-taxi-predictions-2025\\.venv\\Lib\\site-packages\\optuna\\study\\_optimize.py:201\u001b[39m, in \u001b[36m_run_trial\u001b[39m\u001b[34m(study, func, catch)\u001b[39m\n\u001b[32m    199\u001b[39m \u001b[38;5;28;01mwith\u001b[39;00m get_heartbeat_thread(trial._trial_id, study._storage):\n\u001b[32m    200\u001b[39m     \u001b[38;5;28;01mtry\u001b[39;00m:\n\u001b[32m--> \u001b[39m\u001b[32m201\u001b[39m         value_or_values = \u001b[43mfunc\u001b[49m\u001b[43m(\u001b[49m\u001b[43mtrial\u001b[49m\u001b[43m)\u001b[49m\n\u001b[32m    202\u001b[39m     \u001b[38;5;28;01mexcept\u001b[39;00m exceptions.TrialPruned \u001b[38;5;28;01mas\u001b[39;00m e:\n\u001b[32m    203\u001b[39m         \u001b[38;5;66;03m# TODO(mamu): Handle multi-objective cases.\u001b[39;00m\n\u001b[32m    204\u001b[39m         state = TrialState.PRUNED\n",
      "\u001b[36mCell\u001b[39m\u001b[36m \u001b[39m\u001b[32mIn[12]\u001b[39m\u001b[32m, line 48\u001b[39m, in \u001b[36mobjective\u001b[39m\u001b[34m(trial)\u001b[39m\n\u001b[32m     45\u001b[39m     signature = infer_signature(X_val, y_pred)\n\u001b[32m     47\u001b[39m     \u001b[38;5;66;03m# Guardar el modelo del trial como artefacto en MLflow.\u001b[39;00m\n\u001b[32m---> \u001b[39m\u001b[32m48\u001b[39m     \u001b[43mmlflow\u001b[49m\u001b[43m.\u001b[49m\u001b[43mxgboost\u001b[49m\u001b[43m.\u001b[49m\u001b[43mlog_model\u001b[49m\u001b[43m(\u001b[49m\n\u001b[32m     49\u001b[39m \u001b[43m        \u001b[49m\u001b[43mbooster\u001b[49m\u001b[43m,\u001b[49m\n\u001b[32m     50\u001b[39m \u001b[43m        \u001b[49m\u001b[43mname\u001b[49m\u001b[43m=\u001b[49m\u001b[33;43m\"\u001b[39;49m\u001b[33;43mmodel\u001b[39;49m\u001b[33;43m\"\u001b[39;49m\u001b[43m,\u001b[49m\n\u001b[32m     51\u001b[39m \u001b[43m        \u001b[49m\u001b[43minput_example\u001b[49m\u001b[43m=\u001b[49m\u001b[43mX_val\u001b[49m\u001b[43m[\u001b[49m\u001b[43m:\u001b[49m\u001b[32;43m5\u001b[39;49m\u001b[43m]\u001b[49m\u001b[43m,\u001b[49m\n\u001b[32m     52\u001b[39m \u001b[43m        \u001b[49m\u001b[43msignature\u001b[49m\u001b[43m=\u001b[49m\u001b[43msignature\u001b[49m\n\u001b[32m     53\u001b[39m \u001b[43m    \u001b[49m\u001b[43m)\u001b[49m\n\u001b[32m     55\u001b[39m \u001b[38;5;66;03m# Optuna minimiza el valor retornado\u001b[39;00m\n\u001b[32m     56\u001b[39m \u001b[38;5;28;01mreturn\u001b[39;00m rmse\n",
      "\u001b[36mFile \u001b[39m\u001b[32mc:\\Users\\ivanm\\5to Semestre\\Proyecto de Ciencia de Datos\\nyc-taxi-predictions-2025\\.venv\\Lib\\site-packages\\mlflow\\xgboost\\__init__.py:279\u001b[39m, in \u001b[36mlog_model\u001b[39m\u001b[34m(xgb_model, artifact_path, conda_env, code_paths, registered_model_name, signature, input_example, await_registration_for, pip_requirements, extra_pip_requirements, model_format, metadata, name, params, tags, model_type, step, model_id, **kwargs)\u001b[39m\n\u001b[32m    225\u001b[39m \u001b[38;5;129m@format_docstring\u001b[39m(LOG_MODEL_PARAM_DOCS.format(package_name=FLAVOR_NAME))\n\u001b[32m    226\u001b[39m \u001b[38;5;28;01mdef\u001b[39;00m\u001b[38;5;250m \u001b[39m\u001b[34mlog_model\u001b[39m(\n\u001b[32m    227\u001b[39m     xgb_model,\n\u001b[32m   (...)\u001b[39m\u001b[32m    245\u001b[39m     **kwargs,\n\u001b[32m    246\u001b[39m ):\n\u001b[32m    247\u001b[39m \u001b[38;5;250m    \u001b[39m\u001b[33;03m\"\"\"Log an XGBoost model as an MLflow artifact for the current run.\u001b[39;00m\n\u001b[32m    248\u001b[39m \n\u001b[32m    249\u001b[39m \u001b[33;03m    Args:\u001b[39;00m\n\u001b[32m   (...)\u001b[39m\u001b[32m    277\u001b[39m \u001b[33;03m        metadata of the logged model.\u001b[39;00m\n\u001b[32m    278\u001b[39m \u001b[33;03m    \"\"\"\u001b[39;00m\n\u001b[32m--> \u001b[39m\u001b[32m279\u001b[39m     \u001b[38;5;28;01mreturn\u001b[39;00m \u001b[43mModel\u001b[49m\u001b[43m.\u001b[49m\u001b[43mlog\u001b[49m\u001b[43m(\u001b[49m\n\u001b[32m    280\u001b[39m \u001b[43m        \u001b[49m\u001b[43martifact_path\u001b[49m\u001b[43m=\u001b[49m\u001b[43martifact_path\u001b[49m\u001b[43m,\u001b[49m\n\u001b[32m    281\u001b[39m \u001b[43m        \u001b[49m\u001b[43mname\u001b[49m\u001b[43m=\u001b[49m\u001b[43mname\u001b[49m\u001b[43m,\u001b[49m\n\u001b[32m    282\u001b[39m \u001b[43m        \u001b[49m\u001b[43mflavor\u001b[49m\u001b[43m=\u001b[49m\u001b[43mmlflow\u001b[49m\u001b[43m.\u001b[49m\u001b[43mxgboost\u001b[49m\u001b[43m,\u001b[49m\n\u001b[32m    283\u001b[39m \u001b[43m        \u001b[49m\u001b[43mregistered_model_name\u001b[49m\u001b[43m=\u001b[49m\u001b[43mregistered_model_name\u001b[49m\u001b[43m,\u001b[49m\n\u001b[32m    284\u001b[39m \u001b[43m        \u001b[49m\u001b[43mxgb_model\u001b[49m\u001b[43m=\u001b[49m\u001b[43mxgb_model\u001b[49m\u001b[43m,\u001b[49m\n\u001b[32m    285\u001b[39m \u001b[43m        \u001b[49m\u001b[43mmodel_format\u001b[49m\u001b[43m=\u001b[49m\u001b[43mmodel_format\u001b[49m\u001b[43m,\u001b[49m\n\u001b[32m    286\u001b[39m \u001b[43m        \u001b[49m\u001b[43mconda_env\u001b[49m\u001b[43m=\u001b[49m\u001b[43mconda_env\u001b[49m\u001b[43m,\u001b[49m\n\u001b[32m    287\u001b[39m \u001b[43m        \u001b[49m\u001b[43mcode_paths\u001b[49m\u001b[43m=\u001b[49m\u001b[43mcode_paths\u001b[49m\u001b[43m,\u001b[49m\n\u001b[32m    288\u001b[39m \u001b[43m        \u001b[49m\u001b[43msignature\u001b[49m\u001b[43m=\u001b[49m\u001b[43msignature\u001b[49m\u001b[43m,\u001b[49m\n\u001b[32m    289\u001b[39m \u001b[43m        \u001b[49m\u001b[43minput_example\u001b[49m\u001b[43m=\u001b[49m\u001b[43minput_example\u001b[49m\u001b[43m,\u001b[49m\n\u001b[32m    290\u001b[39m \u001b[43m        \u001b[49m\u001b[43mawait_registration_for\u001b[49m\u001b[43m=\u001b[49m\u001b[43mawait_registration_for\u001b[49m\u001b[43m,\u001b[49m\n\u001b[32m    291\u001b[39m \u001b[43m        \u001b[49m\u001b[43mpip_requirements\u001b[49m\u001b[43m=\u001b[49m\u001b[43mpip_requirements\u001b[49m\u001b[43m,\u001b[49m\n\u001b[32m    292\u001b[39m \u001b[43m        \u001b[49m\u001b[43mextra_pip_requirements\u001b[49m\u001b[43m=\u001b[49m\u001b[43mextra_pip_requirements\u001b[49m\u001b[43m,\u001b[49m\n\u001b[32m    293\u001b[39m \u001b[43m        \u001b[49m\u001b[43mmetadata\u001b[49m\u001b[43m=\u001b[49m\u001b[43mmetadata\u001b[49m\u001b[43m,\u001b[49m\n\u001b[32m    294\u001b[39m \u001b[43m        \u001b[49m\u001b[43mparams\u001b[49m\u001b[43m=\u001b[49m\u001b[43mparams\u001b[49m\u001b[43m,\u001b[49m\n\u001b[32m    295\u001b[39m \u001b[43m        \u001b[49m\u001b[43mtags\u001b[49m\u001b[43m=\u001b[49m\u001b[43mtags\u001b[49m\u001b[43m,\u001b[49m\n\u001b[32m    296\u001b[39m \u001b[43m        \u001b[49m\u001b[43mmodel_type\u001b[49m\u001b[43m=\u001b[49m\u001b[43mmodel_type\u001b[49m\u001b[43m,\u001b[49m\n\u001b[32m    297\u001b[39m \u001b[43m        \u001b[49m\u001b[43mstep\u001b[49m\u001b[43m=\u001b[49m\u001b[43mstep\u001b[49m\u001b[43m,\u001b[49m\n\u001b[32m    298\u001b[39m \u001b[43m        \u001b[49m\u001b[43mmodel_id\u001b[49m\u001b[43m=\u001b[49m\u001b[43mmodel_id\u001b[49m\u001b[43m,\u001b[49m\n\u001b[32m    299\u001b[39m \u001b[43m        \u001b[49m\u001b[43m*\u001b[49m\u001b[43m*\u001b[49m\u001b[43mkwargs\u001b[49m\u001b[43m,\u001b[49m\n\u001b[32m    300\u001b[39m \u001b[43m    \u001b[49m\u001b[43m)\u001b[49m\n",
      "\u001b[36mFile \u001b[39m\u001b[32mc:\\Users\\ivanm\\5to Semestre\\Proyecto de Ciencia de Datos\\nyc-taxi-predictions-2025\\.venv\\Lib\\site-packages\\mlflow\\models\\model.py:1302\u001b[39m, in \u001b[36mModel.log\u001b[39m\u001b[34m(cls, artifact_path, flavor, registered_model_name, await_registration_for, metadata, run_id, resources, auth_policy, prompts, name, model_type, params, tags, step, model_id, **kwargs)\u001b[39m\n\u001b[32m   1299\u001b[39m     \u001b[38;5;66;03m# mlflow_model is updated, rewrite the MLmodel file\u001b[39;00m\n\u001b[32m   1300\u001b[39m     mlflow_model.save(os.path.join(local_path, MLMODEL_FILE_NAME))\n\u001b[32m-> \u001b[39m\u001b[32m1302\u001b[39m \u001b[43mclient\u001b[49m\u001b[43m.\u001b[49m\u001b[43mlog_model_artifacts\u001b[49m\u001b[43m(\u001b[49m\u001b[43mmodel\u001b[49m\u001b[43m.\u001b[49m\u001b[43mmodel_id\u001b[49m\u001b[43m,\u001b[49m\u001b[43m \u001b[49m\u001b[43mlocal_path\u001b[49m\u001b[43m)\u001b[49m\n\u001b[32m   1303\u001b[39m \u001b[38;5;66;03m# If the model was previously identified as external, delete the tag because\u001b[39;00m\n\u001b[32m   1304\u001b[39m \u001b[38;5;66;03m# the model now has artifacts in MLflow Model format\u001b[39;00m\n\u001b[32m   1305\u001b[39m \u001b[38;5;28;01mif\u001b[39;00m model.tags.get(MLFLOW_MODEL_IS_EXTERNAL, \u001b[33m\"\u001b[39m\u001b[33mfalse\u001b[39m\u001b[33m\"\u001b[39m).lower() == \u001b[33m\"\u001b[39m\u001b[33mtrue\u001b[39m\u001b[33m\"\u001b[39m:\n",
      "\u001b[36mFile \u001b[39m\u001b[32mc:\\Users\\ivanm\\5to Semestre\\Proyecto de Ciencia de Datos\\nyc-taxi-predictions-2025\\.venv\\Lib\\site-packages\\mlflow\\tracking\\client.py:5589\u001b[39m, in \u001b[36mMlflowClient.log_model_artifacts\u001b[39m\u001b[34m(self, model_id, local_dir)\u001b[39m\n\u001b[32m   5578\u001b[39m \u001b[38;5;28;01mdef\u001b[39;00m\u001b[38;5;250m \u001b[39m\u001b[34mlog_model_artifacts\u001b[39m(\u001b[38;5;28mself\u001b[39m, model_id: \u001b[38;5;28mstr\u001b[39m, local_dir: \u001b[38;5;28mstr\u001b[39m) -> \u001b[38;5;28;01mNone\u001b[39;00m:\n\u001b[32m   5579\u001b[39m \u001b[38;5;250m    \u001b[39m\u001b[33;03m\"\"\"\u001b[39;00m\n\u001b[32m   5580\u001b[39m \u001b[33;03m    Upload a set of artifacts to the specified logged model.\u001b[39;00m\n\u001b[32m   5581\u001b[39m \n\u001b[32m   (...)\u001b[39m\u001b[32m   5587\u001b[39m \u001b[33;03m        None\u001b[39;00m\n\u001b[32m   5588\u001b[39m \u001b[33;03m    \"\"\"\u001b[39;00m\n\u001b[32m-> \u001b[39m\u001b[32m5589\u001b[39m     \u001b[38;5;28;01mreturn\u001b[39;00m \u001b[38;5;28;43mself\u001b[39;49m\u001b[43m.\u001b[49m\u001b[43m_tracking_client\u001b[49m\u001b[43m.\u001b[49m\u001b[43mlog_model_artifacts\u001b[49m\u001b[43m(\u001b[49m\u001b[43mmodel_id\u001b[49m\u001b[43m,\u001b[49m\u001b[43m \u001b[49m\u001b[43mlocal_dir\u001b[49m\u001b[43m)\u001b[49m\n",
      "\u001b[36mFile \u001b[39m\u001b[32mc:\\Users\\ivanm\\5to Semestre\\Proyecto de Ciencia de Datos\\nyc-taxi-predictions-2025\\.venv\\Lib\\site-packages\\mlflow\\tracking\\_tracking_service\\client.py:910\u001b[39m, in \u001b[36mTrackingServiceClient.log_model_artifacts\u001b[39m\u001b[34m(self, model_id, local_dir)\u001b[39m\n\u001b[32m    909\u001b[39m \u001b[38;5;28;01mdef\u001b[39;00m\u001b[38;5;250m \u001b[39m\u001b[34mlog_model_artifacts\u001b[39m(\u001b[38;5;28mself\u001b[39m, model_id: \u001b[38;5;28mstr\u001b[39m, local_dir: \u001b[38;5;28mstr\u001b[39m) -> \u001b[38;5;28;01mNone\u001b[39;00m:\n\u001b[32m--> \u001b[39m\u001b[32m910\u001b[39m     \u001b[38;5;28;43mself\u001b[39;49m\u001b[43m.\u001b[49m\u001b[43m_get_artifact_repo\u001b[49m\u001b[43m(\u001b[49m\u001b[43mmodel_id\u001b[49m\u001b[43m,\u001b[49m\u001b[43m \u001b[49m\u001b[43mresource\u001b[49m\u001b[43m=\u001b[49m\u001b[33;43m\"\u001b[39;49m\u001b[33;43mlogged_model\u001b[39;49m\u001b[33;43m\"\u001b[39;49m\u001b[43m)\u001b[49m\u001b[43m.\u001b[49m\u001b[43mlog_artifacts\u001b[49m\u001b[43m(\u001b[49m\u001b[43mlocal_dir\u001b[49m\u001b[43m)\u001b[49m\n",
      "\u001b[36mFile \u001b[39m\u001b[32mc:\\Users\\ivanm\\5to Semestre\\Proyecto de Ciencia de Datos\\nyc-taxi-predictions-2025\\.venv\\Lib\\site-packages\\mlflow\\store\\artifact\\databricks_tracking_artifact_repo.py:68\u001b[39m, in \u001b[36mDatabricksTrackingArtifactRepository.log_artifacts\u001b[39m\u001b[34m(self, local_dir, artifact_path)\u001b[39m\n\u001b[32m     66\u001b[39m \u001b[38;5;28;01mdef\u001b[39;00m\u001b[38;5;250m \u001b[39m\u001b[34mlog_artifacts\u001b[39m(\u001b[38;5;28mself\u001b[39m, local_dir: \u001b[38;5;28mstr\u001b[39m, artifact_path: \u001b[38;5;28mstr\u001b[39m | \u001b[38;5;28;01mNone\u001b[39;00m = \u001b[38;5;28;01mNone\u001b[39;00m) -> \u001b[38;5;28;01mNone\u001b[39;00m:\n\u001b[32m     67\u001b[39m     \u001b[38;5;28;01mtry\u001b[39;00m:\n\u001b[32m---> \u001b[39m\u001b[32m68\u001b[39m         \u001b[38;5;28;43mself\u001b[39;49m\u001b[43m.\u001b[49m\u001b[43mdatabricks_sdk_repo\u001b[49m\u001b[43m.\u001b[49m\u001b[43mlog_artifacts\u001b[49m\u001b[43m(\u001b[49m\u001b[43mlocal_dir\u001b[49m\u001b[43m,\u001b[49m\u001b[43m \u001b[49m\u001b[43martifact_path\u001b[49m\u001b[43m)\u001b[49m\n\u001b[32m     69\u001b[39m     \u001b[38;5;28;01mexcept\u001b[39;00m \u001b[38;5;167;01mException\u001b[39;00m \u001b[38;5;28;01mas\u001b[39;00m e:\n\u001b[32m     70\u001b[39m         _logger.debug(\n\u001b[32m     71\u001b[39m             _FALLBACK_MESSAGE_TEMPLATE.format(operation=\u001b[33m\"\u001b[39m\u001b[33mlog_artifacts\u001b[39m\u001b[33m\"\u001b[39m) % \u001b[38;5;28mstr\u001b[39m(e),\n\u001b[32m     72\u001b[39m             exc_info=\u001b[38;5;28;01mTrue\u001b[39;00m,\n\u001b[32m     73\u001b[39m         )\n",
      "\u001b[36mFile \u001b[39m\u001b[32mc:\\Users\\ivanm\\5to Semestre\\Proyecto de Ciencia de Datos\\nyc-taxi-predictions-2025\\.venv\\Lib\\site-packages\\mlflow\\store\\artifact\\databricks_sdk_artifact_repo.py:91\u001b[39m, in \u001b[36mDatabricksSdkArtifactRepository.log_artifacts\u001b[39m\u001b[34m(self, local_dir, artifact_path)\u001b[39m\n\u001b[32m     89\u001b[39m local_dir = Path(local_dir).resolve()\n\u001b[32m     90\u001b[39m futures: \u001b[38;5;28mlist\u001b[39m[Future[\u001b[38;5;28;01mNone\u001b[39;00m]] = []\n\u001b[32m---> \u001b[39m\u001b[32m91\u001b[39m \u001b[43m\u001b[49m\u001b[38;5;28;43;01mwith\u001b[39;49;00m\u001b[43m \u001b[49m\u001b[38;5;28;43mself\u001b[39;49m\u001b[43m.\u001b[49m\u001b[43m_create_thread_pool\u001b[49m\u001b[43m(\u001b[49m\u001b[43m)\u001b[49m\u001b[43m \u001b[49m\u001b[38;5;28;43;01mas\u001b[39;49;00m\u001b[43m \u001b[49m\u001b[43mexecutor\u001b[49m\u001b[43m:\u001b[49m\n\u001b[32m     92\u001b[39m \u001b[43m    \u001b[49m\u001b[38;5;28;43;01mfor\u001b[39;49;00m\u001b[43m \u001b[49m\u001b[43mf\u001b[49m\u001b[43m \u001b[49m\u001b[38;5;129;43;01min\u001b[39;49;00m\u001b[43m \u001b[49m\u001b[43mlocal_dir\u001b[49m\u001b[43m.\u001b[49m\u001b[43mrglob\u001b[49m\u001b[43m(\u001b[49m\u001b[33;43m\"\u001b[39;49m\u001b[33;43m*\u001b[39;49m\u001b[33;43m\"\u001b[39;49m\u001b[43m)\u001b[49m\u001b[43m:\u001b[49m\n\u001b[32m     93\u001b[39m \u001b[43m        \u001b[49m\u001b[38;5;28;43;01mif\u001b[39;49;00m\u001b[43m \u001b[49m\u001b[38;5;129;43;01mnot\u001b[39;49;00m\u001b[43m \u001b[49m\u001b[43mf\u001b[49m\u001b[43m.\u001b[49m\u001b[43mis_file\u001b[49m\u001b[43m(\u001b[49m\u001b[43m)\u001b[49m\u001b[43m:\u001b[49m\n",
      "\u001b[36mFile \u001b[39m\u001b[32m~\\AppData\\Local\\Programs\\Python\\Python313\\Lib\\concurrent\\futures\\_base.py:647\u001b[39m, in \u001b[36mExecutor.__exit__\u001b[39m\u001b[34m(self, exc_type, exc_val, exc_tb)\u001b[39m\n\u001b[32m    646\u001b[39m \u001b[38;5;28;01mdef\u001b[39;00m\u001b[38;5;250m \u001b[39m\u001b[34m__exit__\u001b[39m(\u001b[38;5;28mself\u001b[39m, exc_type, exc_val, exc_tb):\n\u001b[32m--> \u001b[39m\u001b[32m647\u001b[39m     \u001b[38;5;28;43mself\u001b[39;49m\u001b[43m.\u001b[49m\u001b[43mshutdown\u001b[49m\u001b[43m(\u001b[49m\u001b[43mwait\u001b[49m\u001b[43m=\u001b[49m\u001b[38;5;28;43;01mTrue\u001b[39;49;00m\u001b[43m)\u001b[49m\n\u001b[32m    648\u001b[39m     \u001b[38;5;28;01mreturn\u001b[39;00m \u001b[38;5;28;01mFalse\u001b[39;00m\n",
      "\u001b[36mFile \u001b[39m\u001b[32m~\\AppData\\Local\\Programs\\Python\\Python313\\Lib\\concurrent\\futures\\thread.py:239\u001b[39m, in \u001b[36mThreadPoolExecutor.shutdown\u001b[39m\u001b[34m(self, wait, cancel_futures)\u001b[39m\n\u001b[32m    237\u001b[39m \u001b[38;5;28;01mif\u001b[39;00m wait:\n\u001b[32m    238\u001b[39m     \u001b[38;5;28;01mfor\u001b[39;00m t \u001b[38;5;129;01min\u001b[39;00m \u001b[38;5;28mself\u001b[39m._threads:\n\u001b[32m--> \u001b[39m\u001b[32m239\u001b[39m         \u001b[43mt\u001b[49m\u001b[43m.\u001b[49m\u001b[43mjoin\u001b[49m\u001b[43m(\u001b[49m\u001b[43m)\u001b[49m\n",
      "\u001b[36mFile \u001b[39m\u001b[32m~\\AppData\\Local\\Programs\\Python\\Python313\\Lib\\threading.py:1094\u001b[39m, in \u001b[36mThread.join\u001b[39m\u001b[34m(self, timeout)\u001b[39m\n\u001b[32m   1091\u001b[39m \u001b[38;5;28;01mif\u001b[39;00m timeout \u001b[38;5;129;01mis\u001b[39;00m \u001b[38;5;129;01mnot\u001b[39;00m \u001b[38;5;28;01mNone\u001b[39;00m:\n\u001b[32m   1092\u001b[39m     timeout = \u001b[38;5;28mmax\u001b[39m(timeout, \u001b[32m0\u001b[39m)\n\u001b[32m-> \u001b[39m\u001b[32m1094\u001b[39m \u001b[38;5;28;43mself\u001b[39;49m\u001b[43m.\u001b[49m\u001b[43m_handle\u001b[49m\u001b[43m.\u001b[49m\u001b[43mjoin\u001b[49m\u001b[43m(\u001b[49m\u001b[43mtimeout\u001b[49m\u001b[43m)\u001b[49m\n",
      "\u001b[31mKeyboardInterrupt\u001b[39m: "
     ]
    }
   ],
   "source": [
    "mlflow.xgboost.autolog(log_models=False)\n",
    "\n",
    "# ------------------------------------------------------------\n",
    "# Crear el estudio de Optuna\n",
    "#    - Usamos TPE (Tree-structured Parzen Estimator) como sampler.\n",
    "#    - direction=\"minimize\" porque queremos minimizar el RMSE.\n",
    "# ------------------------------------------------------------\n",
    "sampler = TPESampler(seed=42)\n",
    "study = optuna.create_study(direction=\"minimize\", sampler=sampler)\n",
    "\n",
    "# ------------------------------------------------------------\n",
    "# Ejecutar la optimización (n_trials = número de intentos)\n",
    "#    - Cada trial ejecuta la función objetivo con un set distinto de hiperparámetros.\n",
    "#    - Abrimos un run \"padre\" para agrupar toda la búsqueda.\n",
    "# ------------------------------------------------------------\n",
    "with mlflow.start_run(run_name=\"XGBoost Hyperparameter Optimization (Optuna)\", nested=True):\n",
    "    study.optimize(objective, n_trials=10)\n",
    "\n",
    "    # --------------------------------------------------------\n",
    "    # Recuperar y registrar los mejores hiperparámetros\n",
    "    # --------------------------------------------------------\n",
    "    best_params = study.best_params\n",
    "    # Asegurar tipos/campos fijos (por claridad y consistencia)\n",
    "    best_params[\"max_depth\"] = int(best_params[\"max_depth\"])\n",
    "    best_params[\"seed\"] = 42\n",
    "    best_params[\"objective\"] = \"reg:squarederror\"\n",
    "\n",
    "    mlflow.log_params(best_params)\n",
    "\n",
    "    # Etiquetas del run \"padre\" (metadatos del experimento)\n",
    "    mlflow.set_tags({\n",
    "        \"project\": \"NYC Taxi Time Prediction Project\",\n",
    "        \"optimizer_engine\": \"optuna\",\n",
    "        \"model_family\": \"xgboost\",\n",
    "        \"feature_set_version\": 1,\n",
    "    })\n",
    "\n",
    "    # --------------------------------------------------------\n",
    "    # 7) Entrenar un modelo FINAL con los mejores hiperparámetros\n",
    "    #    (normalmente se haría sobre train+val o con CV; aquí mantenemos el patrón original)\n",
    "    # --------------------------------------------------------\n",
    "    booster = xgb.train(\n",
    "        params=best_params,\n",
    "        dtrain=train,\n",
    "        num_boost_round=100,\n",
    "        evals=[(valid, \"validation\")],\n",
    "        early_stopping_rounds=10,\n",
    "    )\n",
    "\n",
    "    # Evaluar y registrar la métrica final en validación\n",
    "    y_pred = booster.predict(valid)\n",
    "    rmse = root_mean_squared_error(y_val, y_pred)\n",
    "    mlflow.log_metric(\"rmse\", rmse)\n",
    "\n",
    "    # --------------------------------------------------------\n",
    "    # 8) Guardar artefactos adicionales (p. ej. el preprocesador)\n",
    "    # --------------------------------------------------------\n",
    "    pathlib.Path(\"preprocessor\").mkdir(exist_ok=True)\n",
    "    with open(\"preprocessor/preprocessor.b\", \"wb\") as f_out:\n",
    "        pickle.dump(dv, f_out)\n",
    "\n",
    "    mlflow.log_artifact(\"preprocessor/preprocessor.b\", artifact_path=\"preprocessor\")\n",
    "\n",
    "    # La \"signature\" describe la estructura esperada de entrada y salida del modelo:\n",
    "    # incluye los nombres, tipos y forma (shape) de las variables de entrada y el tipo de salida.\n",
    "    # MLflow la usa para validar datos en inferencia y documentar el modelo en el Model Registry.\n",
    "    # Si X_val es la matriz dispersa (scipy.sparse) salida de DictVectorizer:\n",
    "    feature_names = dv.get_feature_names_out()\n",
    "    input_example = pd.DataFrame(X_val[:5].toarray(), columns=feature_names)\n",
    "\n",
    "    # Para que las longitudes coincidan, usa el mismo slice en y_pred\n",
    "    signature = infer_signature(input_example, y_val[:5])\n",
    "\n",
    "    # Guardar el modelo del trial como artefacto en MLflow.\n",
    "    mlflow.xgboost.log_model(\n",
    "        booster,\n",
    "        name=\"model\",\n",
    "        input_example=input_example,\n",
    "        signature=signature\n",
    "    )"
   ]
  },
  {
   "cell_type": "code",
   "execution_count": 14,
   "id": "8024225c",
   "metadata": {},
   "outputs": [],
   "source": [
    "model_name = \"workspace.default.nyc-taxi-model-xgboost-tarea-5\""
   ]
  },
  {
   "cell_type": "code",
   "execution_count": 15,
   "id": "f51e0449",
   "metadata": {},
   "outputs": [
    {
     "name": "stderr",
     "output_type": "stream",
     "text": [
      "Successfully registered model 'workspace.default.nyc-taxi-model-xgboost-tarea-5'.\n",
      "2025/10/28 20:36:54 WARNING mlflow.tracking._model_registry.fluent: Run with id 9bdbe9a32f014581aeb6f8adb4360a9a has no artifacts at artifact path 'model', registering model based on models:/m-8c6d8c4c60374495807456c18eb16872 instead\n"
     ]
    },
    {
     "data": {
      "application/vnd.jupyter.widget-view+json": {
       "model_id": "f6cd6644f60f4901870b4a6a49b15575",
       "version_major": 2,
       "version_minor": 0
      },
      "text/plain": [
       "Downloading artifacts:   0%|          | 0/7 [00:00<?, ?it/s]"
      ]
     },
     "metadata": {},
     "output_type": "display_data"
    },
    {
     "data": {
      "application/vnd.jupyter.widget-view+json": {
       "model_id": "ca3bbb2acb0d4edcbc40d2b45e6d35aa",
       "version_major": 2,
       "version_minor": 0
      },
      "text/plain": [
       "Uploading artifacts:   0%|          | 0/8 [00:00<?, ?it/s]"
      ]
     },
     "metadata": {},
     "output_type": "display_data"
    },
    {
     "name": "stderr",
     "output_type": "stream",
     "text": [
      "Created version '1' of model 'workspace.default.nyc-taxi-model-xgboost-tarea-5'.\n"
     ]
    }
   ],
   "source": [
    "run_id = input(\"Ingrese el run_id\")\n",
    "run_uri = f\"runs:/{run_id}/model\"\n",
    "\n",
    "result = mlflow.register_model(\n",
    "    model_uri=run_uri,\n",
    "    name=model_name\n",
    ")"
   ]
  },
  {
   "cell_type": "markdown",
   "id": "c561ccd0",
   "metadata": {},
   "source": [
    "Asignamos alias"
   ]
  },
  {
   "cell_type": "code",
   "execution_count": 16,
   "id": "81fef68a",
   "metadata": {},
   "outputs": [],
   "source": [
    "from mlflow import MlflowClient\n",
    "\n",
    "client = MlflowClient()"
   ]
  },
  {
   "cell_type": "code",
   "execution_count": 17,
   "id": "434c771a",
   "metadata": {},
   "outputs": [],
   "source": [
    "model_version = result.version\n",
    "new_alias = \"Challenger\"\n",
    "\n",
    "client.set_registered_model_alias(\n",
    "    name=model_name,\n",
    "    alias=new_alias,\n",
    "    version=result.version\n",
    ")"
   ]
  },
  {
   "cell_type": "code",
   "execution_count": 18,
   "id": "8ee69222",
   "metadata": {},
   "outputs": [
    {
     "data": {
      "text/plain": [
       "<ModelVersion: aliases=[], creation_timestamp=1761705419748, current_stage=None, deployment_job_state=<ModelVersionDeploymentJobState: current_task_name='', job_id='', job_state='DEPLOYMENT_JOB_CONNECTION_STATE_UNSPECIFIED', run_id='', run_state='DEPLOYMENT_JOB_RUN_STATE_UNSPECIFIED'>, description=('The model version 1 was transitioned to Challenger on 2025-10-28 '\n",
       " '20:43:30.198948'), last_updated_timestamp=1761705811659, metrics=[<Metric: dataset_digest='', dataset_name='', key='best_iteration', model_id='m-8c6d8c4c60374495807456c18eb16872', run_id='9bdbe9a32f014581aeb6f8adb4360a9a', step=0, timestamp=1761705140751, value=48.0>,\n",
       " <Metric: dataset_digest='', dataset_name='', key='rmse', model_id='m-8c6d8c4c60374495807456c18eb16872', run_id='9bdbe9a32f014581aeb6f8adb4360a9a', step=0, timestamp=1761705143719, value=6.342751049216642>,\n",
       " <Metric: dataset_digest='', dataset_name='', key='stopped_iteration', model_id='m-8c6d8c4c60374495807456c18eb16872', run_id='9bdbe9a32f014581aeb6f8adb4360a9a', step=0, timestamp=1761705140751, value=58.0>,\n",
       " <Metric: dataset_digest='', dataset_name='', key='validation-rmse', model_id='m-8c6d8c4c60374495807456c18eb16872', run_id='9bdbe9a32f014581aeb6f8adb4360a9a', step=0, timestamp=1761705139140, value=9.393313880455448>], model_id='m-8c6d8c4c60374495807456c18eb16872', name='workspace.default.nyc-taxi-model-xgboost-tarea-5', params=[<LoggedModelParameter: key='learning_rate', value='0.059264241587996896'>,\n",
       " <LoggedModelParameter: key='custom_metric', value='None'>,\n",
       " <LoggedModelParameter: key='objective', value='reg:squarederror'>,\n",
       " <LoggedModelParameter: key='maximize', value='None'>,\n",
       " <LoggedModelParameter: key='max_depth', value='19'>,\n",
       " <LoggedModelParameter: key='num_boost_round', value='100'>,\n",
       " <LoggedModelParameter: key='early_stopping_rounds', value='10'>,\n",
       " <LoggedModelParameter: key='verbose_eval', value='True'>,\n",
       " <LoggedModelParameter: key='reg_lambda', value='0.05006540936006931'>,\n",
       " <LoggedModelParameter: key='seed', value='42'>,\n",
       " <LoggedModelParameter: key='min_child_weight', value='6.248180561354165'>,\n",
       " <LoggedModelParameter: key='reg_alpha', value='0.21539205131792016'>], run_id='9bdbe9a32f014581aeb6f8adb4360a9a', run_link=None, source='models:/m-8c6d8c4c60374495807456c18eb16872', status='READY', status_message='', tags={}, user_id='ivan.morales@iteso.mx', version='1'>"
      ]
     },
     "execution_count": 18,
     "metadata": {},
     "output_type": "execute_result"
    }
   ],
   "source": [
    "from datetime import datetime\n",
    "\n",
    "date = datetime.today()\n",
    "\n",
    "client.update_model_version(\n",
    "    name=model_name,\n",
    "    version=model_version,\n",
    "    description=f\"The model version {model_version} was transitioned to {new_alias} on {date}\",\n",
    ")"
   ]
  }
 ],
 "metadata": {
  "kernelspec": {
   "display_name": "nyc-taxi-predictions-2025 (3.13.7)",
   "language": "python",
   "name": "python3"
  },
  "language_info": {
   "codemirror_mode": {
    "name": "ipython",
    "version": 3
   },
   "file_extension": ".py",
   "mimetype": "text/x-python",
   "name": "python",
   "nbconvert_exporter": "python",
   "pygments_lexer": "ipython3",
   "version": "3.13.7"
  }
 },
 "nbformat": 4,
 "nbformat_minor": 5
}
