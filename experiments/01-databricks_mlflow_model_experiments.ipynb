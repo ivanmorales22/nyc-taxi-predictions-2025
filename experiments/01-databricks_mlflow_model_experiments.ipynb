{
 "cells": [
  {
   "cell_type": "markdown",
   "id": "772268bc",
   "metadata": {},
   "source": [
    "### Working with databricks"
   ]
  },
  {
   "cell_type": "code",
   "execution_count": 1,
   "id": "39bbe505",
   "metadata": {},
   "outputs": [
    {
     "name": "stderr",
     "output_type": "stream",
     "text": [
      "2025/10/21 20:44:27 INFO mlflow.tracking.fluent: Experiment with name '/Users/ivan.morales@iteso.mx/nyc-taxi-experiments' does not exist. Creating a new experiment.\n"
     ]
    }
   ],
   "source": [
    "import os, mlflow\n",
    "from dotenv import load_dotenv\n",
    "\n",
    "load_dotenv(override=True) # Cargar las variables de entorno desde el archivo .env\n",
    "EXPERIMENT_NAME = \"/Users/ivan.morales@iteso.mx/nyc-taxi-experiments\" \n",
    "\n",
    "mlflow.set_tracking_uri(\"databricks\")\n",
    "experiment = mlflow.set_experiment(experiment_name=EXPERIMENT_NAME)"
   ]
  },
  {
   "cell_type": "markdown",
   "id": "f6d67881",
   "metadata": {},
   "source": [
    "### Importamos las librerias necesarias"
   ]
  },
  {
   "cell_type": "code",
   "execution_count": 5,
   "id": "c9a8eac3",
   "metadata": {},
   "outputs": [],
   "source": [
    "import pickle\n",
    "import pandas as pd\n",
    "from sklearn.metrics import  root_mean_squared_error\n",
    "from sklearn.feature_extraction import  DictVectorizer"
   ]
  },
  {
   "cell_type": "code",
   "execution_count": 6,
   "id": "b053e5a6",
   "metadata": {},
   "outputs": [],
   "source": [
    "def read_dataframe(filename):\n",
    "\n",
    "    df = pd.read_parquet(filename)\n",
    "\n",
    "    df['duration'] = df.lpep_dropoff_datetime - df.lpep_pickup_datetime\n",
    "    df.duration = df.duration.apply(lambda td: td.total_seconds() / 60)\n",
    "\n",
    "    df = df[(df.duration >= 1) & (df.duration <= 60)]\n",
    "\n",
    "    categorical = ['PULocationID', 'DOLocationID']\n",
    "    df[categorical] = df[categorical].astype(str)\n",
    "\n",
    "    return df"
   ]
  },
  {
   "cell_type": "code",
   "execution_count": 7,
   "id": "dcc06efe",
   "metadata": {},
   "outputs": [],
   "source": [
    "df_train = read_dataframe('../data/green_tripdata_2025-01.parquet')\n",
    "df_val = read_dataframe('../data/green_tripdata_2025-02.parquet')"
   ]
  },
  {
   "cell_type": "markdown",
   "id": "1459e63a",
   "metadata": {},
   "source": [
    "Feature Engineering + One Hot Encoding, pipeline simple inicial"
   ]
  },
  {
   "cell_type": "code",
   "execution_count": 8,
   "id": "018a6cbd",
   "metadata": {},
   "outputs": [],
   "source": [
    "def preprocess(df, dv):\n",
    "    df['PU_DO'] = df['PULocationID'] + '_' + df['DOLocationID']\n",
    "    categorical = ['PU_DO']\n",
    "    numerical = ['trip_distance']\n",
    "    train_dicts = df[categorical + numerical].to_dict(orient='records')\n",
    "    return dv.transform(train_dicts)"
   ]
  },
  {
   "cell_type": "code",
   "execution_count": 9,
   "id": "2ea5b1c2",
   "metadata": {},
   "outputs": [],
   "source": [
    "categorical = ['PULocationID', 'DOLocationID']\n",
    "numerical = ['trip_distance']\n",
    "dv = DictVectorizer()\n",
    "\n",
    "train_dicts = df_train[categorical + numerical].to_dict(orient='records')\n",
    "X_train = dv.fit_transform(train_dicts)\n",
    "\n",
    "X_val = preprocess(df_val, dv)"
   ]
  },
  {
   "cell_type": "markdown",
   "id": "69133db8",
   "metadata": {},
   "source": [
    "Target"
   ]
  },
  {
   "cell_type": "code",
   "execution_count": 10,
   "id": "ab0d5ee9",
   "metadata": {},
   "outputs": [],
   "source": [
    "target = 'duration'\n",
    "y_train = df_train[target].values\n",
    "y_val = df_val[target].values"
   ]
  },
  {
   "cell_type": "markdown",
   "id": "ba14a1ae",
   "metadata": {},
   "source": [
    "Definir los dataset como objetos de *mlflow* para poderlos trackear"
   ]
  },
  {
   "cell_type": "code",
   "execution_count": 11,
   "id": "0c41d001",
   "metadata": {},
   "outputs": [],
   "source": [
    "training_dataset = mlflow.data.from_numpy(X_train.data, targets=y_train, name=\"green_tripdata_2025-01\")\n",
    "validation_dataset = mlflow.data.from_numpy(X_val.data, targets=y_val, name=\"green_tripdata_2025-02\")"
   ]
  },
  {
   "cell_type": "markdown",
   "id": "42cae6ee",
   "metadata": {},
   "source": [
    "Tuning de hiperparametros para un modelo `XGBoost` con *Optuna*"
   ]
  },
  {
   "cell_type": "code",
   "execution_count": 14,
   "id": "a82fec31",
   "metadata": {},
   "outputs": [],
   "source": [
    "# Liberias necesarias\n",
    "\n",
    "import math\n",
    "import optuna\n",
    "import pathlib\n",
    "import xgboost as xgb\n",
    "from optuna.samplers import TPESampler\n",
    "from mlflow.models.signature import infer_signature"
   ]
  },
  {
   "cell_type": "code",
   "execution_count": 13,
   "id": "78f8388f",
   "metadata": {},
   "outputs": [],
   "source": [
    "train = xgb.DMatrix(X_train, label=y_train)\n",
    "valid = xgb.DMatrix(X_val, label=y_val)"
   ]
  },
  {
   "cell_type": "markdown",
   "id": "7a263c24",
   "metadata": {},
   "source": [
    "Funcion objetivo"
   ]
  },
  {
   "cell_type": "code",
   "execution_count": 17,
   "id": "41d475ce",
   "metadata": {},
   "outputs": [],
   "source": [
    "# ------------------------------------------------------------\n",
    "# Definir la función objetivo para Optuna\n",
    "#    - Recibe un `trial`, que se usa para proponer hiperparámetros.\n",
    "#    - Entrena un modelo con esos hiperparámetros.\n",
    "#    - Calcula la métrica de validación (RMSE) y la retorna (Optuna la minimizará).\n",
    "#    - Abrimos un run anidado de MLflow para registrar cada trial.\n",
    "# ------------------------------------------------------------\n",
    "def objective(trial: optuna.trial.Trial):\n",
    "    # Hiperparámetros MUESTREADOS por Optuna en CADA trial.\n",
    "    # Nota: usamos log=True para emular rangos log-uniformes (similar a loguniform).\n",
    "    params = {\n",
    "        \"max_depth\": trial.suggest_int(\"max_depth\", 4, 100),\n",
    "        \"learning_rate\": trial.suggest_float(\"learning_rate\", math.exp(-3), 1.0, log=True),\n",
    "        \"reg_alpha\": trial.suggest_float(\"reg_alpha\",   math.exp(-5), math.exp(-1), log=True),\n",
    "        \"reg_lambda\": trial.suggest_float(\"reg_lambda\", math.exp(-6), math.exp(-1), log=True),\n",
    "        \"min_child_weight\": trial.suggest_float(\"min_child_weight\", math.exp(-1), math.exp(3), log=True),\n",
    "        \"objective\": \"reg:squarederror\",  \n",
    "        \"seed\": 42,                      \n",
    "    }\n",
    "\n",
    "    # Run anidado para dejar rastro de cada trial en MLflow\n",
    "    with mlflow.start_run(nested=True):\n",
    "        mlflow.set_tag(\"model_family\", \"xgboost\")  # etiqueta informativa\n",
    "        mlflow.log_params(params)                  # registra hiperparámetros del trial\n",
    "\n",
    "        # Entrenamiento con early stopping en el conjunto de validación\n",
    "        booster = xgb.train(\n",
    "            params=params,\n",
    "            dtrain=train,\n",
    "            num_boost_round=100,\n",
    "            evals=[(valid, \"validation\")],\n",
    "            early_stopping_rounds=10,\n",
    "        )\n",
    "\n",
    "        # Predicción y métrica en validación\n",
    "        y_pred = booster.predict(valid)\n",
    "        rmse = root_mean_squared_error(y_val, y_pred)\n",
    "\n",
    "        # Registrar la métrica principal\n",
    "        mlflow.log_metric(\"rmse\", rmse)\n",
    "\n",
    "        # La \"signature\" describe la estructura esperada de entrada y salida del modelo:\n",
    "        # incluye los nombres, tipos y forma (shape) de las variables de entrada y el tipo de salida.\n",
    "        # MLflow la usa para validar datos en inferencia y documentar el modelo en el Model Registry.\n",
    "        signature = infer_signature(X_val, y_pred)\n",
    "\n",
    "        # Guardar el modelo del trial como artefacto en MLflow.\n",
    "        mlflow.xgboost.log_model(\n",
    "            booster,\n",
    "            name=\"model\",\n",
    "            input_example=X_val[:5],\n",
    "            signature=signature\n",
    "        )\n",
    "\n",
    "    # Optuna minimiza el valor retornado\n",
    "    return rmse"
   ]
  },
  {
   "cell_type": "markdown",
   "id": "e73de765",
   "metadata": {},
   "source": [
    "Flujo de Busqueda"
   ]
  },
  {
   "cell_type": "code",
   "execution_count": 18,
   "id": "2d9c55b9",
   "metadata": {},
   "outputs": [
    {
     "name": "stderr",
     "output_type": "stream",
     "text": [
      "[I 2025-10-21 21:01:51,755] A new study created in memory with name: no-name-dfea3b72-4fb8-4a8a-b9cd-33a793244e79\n"
     ]
    },
    {
     "name": "stdout",
     "output_type": "stream",
     "text": [
      "[0]\tvalidation-rmse:5.97618\n",
      "[1]\tvalidation-rmse:5.96293\n",
      "[2]\tvalidation-rmse:5.97541\n",
      "[3]\tvalidation-rmse:5.97576\n",
      "[4]\tvalidation-rmse:5.97576\n",
      "[5]\tvalidation-rmse:5.97574\n",
      "[6]\tvalidation-rmse:5.97540\n",
      "[7]\tvalidation-rmse:5.97555\n",
      "[8]\tvalidation-rmse:5.97610\n",
      "[9]\tvalidation-rmse:5.97557\n",
      "[10]\tvalidation-rmse:5.97620\n"
     ]
    },
    {
     "name": "stderr",
     "output_type": "stream",
     "text": [
      "c:\\Users\\ivanm\\5to Semestre\\Proyecto de Ciencia de Datos\\nyc-taxi-predictions-2025\\.venv\\Lib\\site-packages\\mlflow\\xgboost\\__init__.py:169: UserWarning: [21:02:04] WARNING: C:\\actions-runner\\_work\\xgboost\\xgboost\\src\\c_api\\c_api.cc:1575: Saving model in the UBJSON format as default.  You can use a file extension: `json` or `ubj` to choose between formats.\n",
      "  xgb_model.save_model(model_data_path)\n",
      "2025/10/21 21:02:15 WARNING mlflow.utils.environment: Failed to resolve installed pip version. ``pip`` will be added to conda.yaml environment spec without a version specifier.\n"
     ]
    },
    {
     "data": {
      "application/vnd.jupyter.widget-view+json": {
       "model_id": "7a72a86d01f5474eafc37c045e9756b8",
       "version_major": 2,
       "version_minor": 0
      },
      "text/plain": [
       "Downloading artifacts:   0%|          | 0/7 [00:00<?, ?it/s]"
      ]
     },
     "metadata": {},
     "output_type": "display_data"
    },
    {
     "name": "stderr",
     "output_type": "stream",
     "text": [
      "c:\\Users\\ivanm\\5to Semestre\\Proyecto de Ciencia de Datos\\nyc-taxi-predictions-2025\\.venv\\Lib\\site-packages\\mlflow\\xgboost\\__init__.py:321: UserWarning: [21:02:15] WARNING: C:\\actions-runner\\_work\\xgboost\\xgboost\\src\\c_api\\c_api.cc:1511: Unknown file format: `xgb`. Using UBJSON (`ubj`) as a guess.\n",
      "  model.load_model(xgb_model_path)\n",
      "2025/10/21 21:02:15 INFO mlflow.models.model: Found the following environment variables used during model inference: [DATABRICKS_HOST, DATABRICKS_TOKEN]. Please check if you need to set them when deploying the model. To disable this message, set environment variable `MLFLOW_RECORD_ENV_VARS_IN_MODEL_LOGGING` to `false`.\n",
      "[I 2025-10-21 21:02:19,018] Trial 0 finished with value: 5.976289297510136 and parameters: {'max_depth': 40, 'learning_rate': 0.8625543817410922, 'reg_alpha': 0.12593061066249622, 'reg_lambda': 0.049454235173237264, 'min_child_weight': 0.6866535292359801}. Best is trial 0 with value: 5.976289297510136.\n"
     ]
    },
    {
     "name": "stdout",
     "output_type": "stream",
     "text": [
      "🏃 View run big-hound-863 at: https://dbc-ed7122c4-c5b7.cloud.databricks.com/ml/experiments/2414141065980596/runs/bf0c35cad04f4cefa2cc9fad1f79ead8\n",
      "🧪 View experiment at: https://dbc-ed7122c4-c5b7.cloud.databricks.com/ml/experiments/2414141065980596\n",
      "[0]\tvalidation-rmse:8.75443\n",
      "[1]\tvalidation-rmse:8.44234\n",
      "[2]\tvalidation-rmse:8.15748\n",
      "[3]\tvalidation-rmse:7.89941\n",
      "[4]\tvalidation-rmse:7.66447\n",
      "[5]\tvalidation-rmse:7.45313\n",
      "[6]\tvalidation-rmse:7.26115\n",
      "[7]\tvalidation-rmse:7.09232\n",
      "[8]\tvalidation-rmse:6.94195\n",
      "[9]\tvalidation-rmse:6.80677\n",
      "[10]\tvalidation-rmse:6.68661\n",
      "[11]\tvalidation-rmse:6.57883\n",
      "[12]\tvalidation-rmse:6.48359\n",
      "[13]\tvalidation-rmse:6.40011\n",
      "[14]\tvalidation-rmse:6.32434\n",
      "[15]\tvalidation-rmse:6.25910\n",
      "[16]\tvalidation-rmse:6.20305\n",
      "[17]\tvalidation-rmse:6.15157\n",
      "[18]\tvalidation-rmse:6.10657\n",
      "[19]\tvalidation-rmse:6.06838\n",
      "[20]\tvalidation-rmse:6.03423\n",
      "[21]\tvalidation-rmse:6.00470\n",
      "[22]\tvalidation-rmse:5.98021\n",
      "[23]\tvalidation-rmse:5.95935\n",
      "[24]\tvalidation-rmse:5.94300\n",
      "[25]\tvalidation-rmse:5.92949\n",
      "[26]\tvalidation-rmse:5.91754\n",
      "[27]\tvalidation-rmse:5.90625\n",
      "[28]\tvalidation-rmse:5.89788\n",
      "[29]\tvalidation-rmse:5.89006\n",
      "[30]\tvalidation-rmse:5.88502\n",
      "[31]\tvalidation-rmse:5.87992\n",
      "[32]\tvalidation-rmse:5.87741\n",
      "[33]\tvalidation-rmse:5.87478\n",
      "[34]\tvalidation-rmse:5.87364\n",
      "[35]\tvalidation-rmse:5.87140\n",
      "[36]\tvalidation-rmse:5.87004\n",
      "[37]\tvalidation-rmse:5.87006\n",
      "[38]\tvalidation-rmse:5.87065\n",
      "[39]\tvalidation-rmse:5.87064\n",
      "[40]\tvalidation-rmse:5.87030\n",
      "[41]\tvalidation-rmse:5.87058\n",
      "[42]\tvalidation-rmse:5.87080\n",
      "[43]\tvalidation-rmse:5.87063\n",
      "[44]\tvalidation-rmse:5.87140\n",
      "[45]\tvalidation-rmse:5.87166\n"
     ]
    },
    {
     "name": "stderr",
     "output_type": "stream",
     "text": [
      "c:\\Users\\ivanm\\5to Semestre\\Proyecto de Ciencia de Datos\\nyc-taxi-predictions-2025\\.venv\\Lib\\site-packages\\mlflow\\xgboost\\__init__.py:169: UserWarning: [21:02:24] WARNING: C:\\actions-runner\\_work\\xgboost\\xgboost\\src\\c_api\\c_api.cc:1575: Saving model in the UBJSON format as default.  You can use a file extension: `json` or `ubj` to choose between formats.\n",
      "  xgb_model.save_model(model_data_path)\n",
      "2025/10/21 21:02:29 WARNING mlflow.utils.environment: Failed to resolve installed pip version. ``pip`` will be added to conda.yaml environment spec without a version specifier.\n"
     ]
    },
    {
     "data": {
      "application/vnd.jupyter.widget-view+json": {
       "model_id": "03c8264a39b143a4b645c65a9ae273d6",
       "version_major": 2,
       "version_minor": 0
      },
      "text/plain": [
       "Downloading artifacts:   0%|          | 0/7 [00:00<?, ?it/s]"
      ]
     },
     "metadata": {},
     "output_type": "display_data"
    },
    {
     "name": "stderr",
     "output_type": "stream",
     "text": [
      "c:\\Users\\ivanm\\5to Semestre\\Proyecto de Ciencia de Datos\\nyc-taxi-predictions-2025\\.venv\\Lib\\site-packages\\mlflow\\xgboost\\__init__.py:321: UserWarning: [21:02:29] WARNING: C:\\actions-runner\\_work\\xgboost\\xgboost\\src\\c_api\\c_api.cc:1511: Unknown file format: `xgb`. Using UBJSON (`ubj`) as a guess.\n",
      "  model.load_model(xgb_model_path)\n",
      "[I 2025-10-21 21:02:33,921] Trial 1 finished with value: 5.871727173718048 and parameters: {'max_depth': 19, 'learning_rate': 0.059264241587996896, 'reg_alpha': 0.21539205131792016, 'reg_lambda': 0.05006540936006931, 'min_child_weight': 6.248180561354165}. Best is trial 1 with value: 5.871727173718048.\n"
     ]
    },
    {
     "name": "stdout",
     "output_type": "stream",
     "text": [
      "🏃 View run skittish-vole-193 at: https://dbc-ed7122c4-c5b7.cloud.databricks.com/ml/experiments/2414141065980596/runs/6953c5a4fdeb42399e79b0d97ab0014a\n",
      "🧪 View experiment at: https://dbc-ed7122c4-c5b7.cloud.databricks.com/ml/experiments/2414141065980596\n",
      "[0]\tvalidation-rmse:5.88480\n",
      "[1]\tvalidation-rmse:5.87918\n",
      "[2]\tvalidation-rmse:5.87752\n",
      "[3]\tvalidation-rmse:5.87758\n",
      "[4]\tvalidation-rmse:5.87414\n",
      "[5]\tvalidation-rmse:5.87534\n",
      "[6]\tvalidation-rmse:5.87592\n",
      "[7]\tvalidation-rmse:5.87536\n",
      "[8]\tvalidation-rmse:5.87471\n",
      "[9]\tvalidation-rmse:5.87431\n",
      "[10]\tvalidation-rmse:5.87445\n",
      "[11]\tvalidation-rmse:5.87422\n",
      "[12]\tvalidation-rmse:5.87418\n",
      "[13]\tvalidation-rmse:5.87385\n",
      "[14]\tvalidation-rmse:5.86068\n",
      "[15]\tvalidation-rmse:5.86163\n",
      "[16]\tvalidation-rmse:5.86347\n",
      "[17]\tvalidation-rmse:5.86320\n",
      "[18]\tvalidation-rmse:5.86328\n",
      "[19]\tvalidation-rmse:5.86315\n",
      "[20]\tvalidation-rmse:5.86330\n",
      "[21]\tvalidation-rmse:5.86192\n",
      "[22]\tvalidation-rmse:5.86069\n",
      "[23]\tvalidation-rmse:5.86122\n",
      "[24]\tvalidation-rmse:5.86108\n"
     ]
    },
    {
     "name": "stderr",
     "output_type": "stream",
     "text": [
      "c:\\Users\\ivanm\\5to Semestre\\Proyecto de Ciencia de Datos\\nyc-taxi-predictions-2025\\.venv\\Lib\\site-packages\\mlflow\\xgboost\\__init__.py:169: UserWarning: [21:02:38] WARNING: C:\\actions-runner\\_work\\xgboost\\xgboost\\src\\c_api\\c_api.cc:1575: Saving model in the UBJSON format as default.  You can use a file extension: `json` or `ubj` to choose between formats.\n",
      "  xgb_model.save_model(model_data_path)\n",
      "2025/10/21 21:02:43 WARNING mlflow.utils.environment: Failed to resolve installed pip version. ``pip`` will be added to conda.yaml environment spec without a version specifier.\n"
     ]
    },
    {
     "data": {
      "application/vnd.jupyter.widget-view+json": {
       "model_id": "b8619ce54cb149d1a2e5a0091c1d4cc5",
       "version_major": 2,
       "version_minor": 0
      },
      "text/plain": [
       "Downloading artifacts:   0%|          | 0/7 [00:00<?, ?it/s]"
      ]
     },
     "metadata": {},
     "output_type": "display_data"
    },
    {
     "name": "stderr",
     "output_type": "stream",
     "text": [
      "c:\\Users\\ivanm\\5to Semestre\\Proyecto de Ciencia de Datos\\nyc-taxi-predictions-2025\\.venv\\Lib\\site-packages\\mlflow\\xgboost\\__init__.py:321: UserWarning: [21:02:43] WARNING: C:\\actions-runner\\_work\\xgboost\\xgboost\\src\\c_api\\c_api.cc:1511: Unknown file format: `xgb`. Using UBJSON (`ubj`) as a guess.\n",
      "  model.load_model(xgb_model_path)\n",
      "[I 2025-10-21 21:02:45,823] Trial 2 finished with value: 5.861080956290079 and parameters: {'max_depth': 5, 'learning_rate': 0.9136840519292247, 'reg_alpha': 0.18820387978911576, 'reg_lambda': 0.007166739666045858, 'min_child_weight': 0.7613210498541186}. Best is trial 2 with value: 5.861080956290079.\n"
     ]
    },
    {
     "name": "stdout",
     "output_type": "stream",
     "text": [
      "🏃 View run lyrical-penguin-816 at: https://dbc-ed7122c4-c5b7.cloud.databricks.com/ml/experiments/2414141065980596/runs/888a034bcd1242898fc0a9810997bd01\n",
      "🧪 View experiment at: https://dbc-ed7122c4-c5b7.cloud.databricks.com/ml/experiments/2414141065980596\n",
      "[0]\tvalidation-rmse:8.40909\n",
      "[1]\tvalidation-rmse:7.84573\n",
      "[2]\tvalidation-rmse:7.39572\n",
      "[3]\tvalidation-rmse:7.04071\n",
      "[4]\tvalidation-rmse:6.74761\n",
      "[5]\tvalidation-rmse:6.52071\n",
      "[6]\tvalidation-rmse:6.34414\n",
      "[7]\tvalidation-rmse:6.21028\n",
      "[8]\tvalidation-rmse:6.11245\n",
      "[9]\tvalidation-rmse:6.03994\n",
      "[10]\tvalidation-rmse:5.97905\n",
      "[11]\tvalidation-rmse:5.93916\n",
      "[12]\tvalidation-rmse:5.90916\n",
      "[13]\tvalidation-rmse:5.88816\n",
      "[14]\tvalidation-rmse:5.87149\n",
      "[15]\tvalidation-rmse:5.86217\n",
      "[16]\tvalidation-rmse:5.85431\n",
      "[17]\tvalidation-rmse:5.84908\n",
      "[18]\tvalidation-rmse:5.84536\n",
      "[19]\tvalidation-rmse:5.84496\n",
      "[20]\tvalidation-rmse:5.84430\n",
      "[21]\tvalidation-rmse:5.84316\n",
      "[22]\tvalidation-rmse:5.84282\n",
      "[23]\tvalidation-rmse:5.84295\n",
      "[24]\tvalidation-rmse:5.84285\n",
      "[25]\tvalidation-rmse:5.84337\n",
      "[26]\tvalidation-rmse:5.84374\n",
      "[27]\tvalidation-rmse:5.84423\n",
      "[28]\tvalidation-rmse:5.84552\n",
      "[29]\tvalidation-rmse:5.84614\n",
      "[30]\tvalidation-rmse:5.84638\n",
      "[31]\tvalidation-rmse:5.84666\n"
     ]
    },
    {
     "name": "stderr",
     "output_type": "stream",
     "text": [
      "c:\\Users\\ivanm\\5to Semestre\\Proyecto de Ciencia de Datos\\nyc-taxi-predictions-2025\\.venv\\Lib\\site-packages\\mlflow\\xgboost\\__init__.py:169: UserWarning: [21:02:52] WARNING: C:\\actions-runner\\_work\\xgboost\\xgboost\\src\\c_api\\c_api.cc:1575: Saving model in the UBJSON format as default.  You can use a file extension: `json` or `ubj` to choose between formats.\n",
      "  xgb_model.save_model(model_data_path)\n",
      "2025/10/21 21:02:57 WARNING mlflow.utils.environment: Failed to resolve installed pip version. ``pip`` will be added to conda.yaml environment spec without a version specifier.\n"
     ]
    },
    {
     "data": {
      "application/vnd.jupyter.widget-view+json": {
       "model_id": "dd2571a564574e648e2f23a74d360922",
       "version_major": 2,
       "version_minor": 0
      },
      "text/plain": [
       "Downloading artifacts:   0%|          | 0/7 [00:00<?, ?it/s]"
      ]
     },
     "metadata": {},
     "output_type": "display_data"
    },
    {
     "name": "stderr",
     "output_type": "stream",
     "text": [
      "c:\\Users\\ivanm\\5to Semestre\\Proyecto de Ciencia de Datos\\nyc-taxi-predictions-2025\\.venv\\Lib\\site-packages\\mlflow\\xgboost\\__init__.py:321: UserWarning: [21:02:57] WARNING: C:\\actions-runner\\_work\\xgboost\\xgboost\\src\\c_api\\c_api.cc:1511: Unknown file format: `xgb`. Using UBJSON (`ubj`) as a guess.\n",
      "  model.load_model(xgb_model_path)\n",
      "[I 2025-10-21 21:03:02,160] Trial 3 finished with value: 5.846650179216916 and parameters: {'max_depth': 21, 'learning_rate': 0.12402485733085497, 'reg_alpha': 0.054969638498598095, 'reg_lambda': 0.02148769342025257, 'min_child_weight': 1.1792947151892554}. Best is trial 3 with value: 5.846650179216916.\n"
     ]
    },
    {
     "name": "stdout",
     "output_type": "stream",
     "text": [
      "🏃 View run placid-hound-697 at: https://dbc-ed7122c4-c5b7.cloud.databricks.com/ml/experiments/2414141065980596/runs/e4254815c81a4cedb7489ce99f426bac\n",
      "🧪 View experiment at: https://dbc-ed7122c4-c5b7.cloud.databricks.com/ml/experiments/2414141065980596\n",
      "[0]\tvalidation-rmse:8.63843\n",
      "[1]\tvalidation-rmse:8.23475\n",
      "[2]\tvalidation-rmse:7.88255\n",
      "[3]\tvalidation-rmse:7.57015\n",
      "[4]\tvalidation-rmse:7.29596\n",
      "[5]\tvalidation-rmse:7.06555\n",
      "[6]\tvalidation-rmse:6.86743\n",
      "[7]\tvalidation-rmse:6.70250\n",
      "[8]\tvalidation-rmse:6.56831\n",
      "[9]\tvalidation-rmse:6.45505\n",
      "[10]\tvalidation-rmse:6.36710\n",
      "[11]\tvalidation-rmse:6.29865\n",
      "[12]\tvalidation-rmse:6.23694\n",
      "[13]\tvalidation-rmse:6.19174\n",
      "[14]\tvalidation-rmse:6.15459\n",
      "[15]\tvalidation-rmse:6.12625\n",
      "[16]\tvalidation-rmse:6.10614\n",
      "[17]\tvalidation-rmse:6.09503\n",
      "[18]\tvalidation-rmse:6.09011\n",
      "[19]\tvalidation-rmse:6.08472\n",
      "[20]\tvalidation-rmse:6.08592\n",
      "[21]\tvalidation-rmse:6.08870\n",
      "[22]\tvalidation-rmse:6.09851\n",
      "[23]\tvalidation-rmse:6.11276\n",
      "[24]\tvalidation-rmse:6.12300\n",
      "[25]\tvalidation-rmse:6.13269\n",
      "[26]\tvalidation-rmse:6.14403\n",
      "[27]\tvalidation-rmse:6.15687\n",
      "[28]\tvalidation-rmse:6.17478\n"
     ]
    },
    {
     "name": "stderr",
     "output_type": "stream",
     "text": [
      "c:\\Users\\ivanm\\5to Semestre\\Proyecto de Ciencia de Datos\\nyc-taxi-predictions-2025\\.venv\\Lib\\site-packages\\mlflow\\xgboost\\__init__.py:169: UserWarning: [21:03:13] WARNING: C:\\actions-runner\\_work\\xgboost\\xgboost\\src\\c_api\\c_api.cc:1575: Saving model in the UBJSON format as default.  You can use a file extension: `json` or `ubj` to choose between formats.\n",
      "  xgb_model.save_model(model_data_path)\n",
      "2025/10/21 21:03:18 WARNING mlflow.utils.environment: Failed to resolve installed pip version. ``pip`` will be added to conda.yaml environment spec without a version specifier.\n"
     ]
    },
    {
     "data": {
      "application/vnd.jupyter.widget-view+json": {
       "model_id": "bd6acec1870d4fddbb40ea2469cee035",
       "version_major": 2,
       "version_minor": 0
      },
      "text/plain": [
       "Downloading artifacts:   0%|          | 0/7 [00:00<?, ?it/s]"
      ]
     },
     "metadata": {},
     "output_type": "display_data"
    },
    {
     "name": "stderr",
     "output_type": "stream",
     "text": [
      "c:\\Users\\ivanm\\5to Semestre\\Proyecto de Ciencia de Datos\\nyc-taxi-predictions-2025\\.venv\\Lib\\site-packages\\mlflow\\xgboost\\__init__.py:321: UserWarning: [21:03:18] WARNING: C:\\actions-runner\\_work\\xgboost\\xgboost\\src\\c_api\\c_api.cc:1511: Unknown file format: `xgb`. Using UBJSON (`ubj`) as a guess.\n",
      "  model.load_model(xgb_model_path)\n",
      "[I 2025-10-21 21:03:33,757] Trial 4 finished with value: 6.1879650227845096 and parameters: {'max_depth': 63, 'learning_rate': 0.07565903471570516, 'reg_alpha': 0.021678779375600917, 'reg_lambda': 0.015480241912324163, 'min_child_weight': 2.2802382585441565}. Best is trial 3 with value: 5.846650179216916.\n"
     ]
    },
    {
     "name": "stdout",
     "output_type": "stream",
     "text": [
      "🏃 View run melodic-skink-174 at: https://dbc-ed7122c4-c5b7.cloud.databricks.com/ml/experiments/2414141065980596/runs/e1fbad0d47574545b2bf5638c088bafc\n",
      "🧪 View experiment at: https://dbc-ed7122c4-c5b7.cloud.databricks.com/ml/experiments/2414141065980596\n",
      "[0]\tvalidation-rmse:8.55025\n",
      "[1]\tvalidation-rmse:8.08926\n",
      "[2]\tvalidation-rmse:7.70090\n",
      "[3]\tvalidation-rmse:7.36877\n",
      "[4]\tvalidation-rmse:7.10317\n",
      "[5]\tvalidation-rmse:6.87696\n",
      "[6]\tvalidation-rmse:6.69591\n",
      "[7]\tvalidation-rmse:6.54729\n",
      "[8]\tvalidation-rmse:6.43376\n",
      "[9]\tvalidation-rmse:6.34405\n",
      "[10]\tvalidation-rmse:6.26905\n",
      "[11]\tvalidation-rmse:6.21067\n",
      "[12]\tvalidation-rmse:6.16674\n",
      "[13]\tvalidation-rmse:6.13451\n",
      "[14]\tvalidation-rmse:6.11458\n",
      "[15]\tvalidation-rmse:6.09688\n",
      "[16]\tvalidation-rmse:6.09145\n",
      "[17]\tvalidation-rmse:6.08687\n",
      "[18]\tvalidation-rmse:6.08824\n",
      "[19]\tvalidation-rmse:6.08446\n",
      "[20]\tvalidation-rmse:6.08665\n",
      "[21]\tvalidation-rmse:6.09259\n",
      "[22]\tvalidation-rmse:6.09975\n",
      "[23]\tvalidation-rmse:6.10610\n",
      "[24]\tvalidation-rmse:6.11013\n",
      "[25]\tvalidation-rmse:6.11605\n",
      "[26]\tvalidation-rmse:6.12258\n",
      "[27]\tvalidation-rmse:6.13090\n",
      "[28]\tvalidation-rmse:6.13674\n",
      "[29]\tvalidation-rmse:6.14314\n"
     ]
    },
    {
     "name": "stderr",
     "output_type": "stream",
     "text": [
      "c:\\Users\\ivanm\\5to Semestre\\Proyecto de Ciencia de Datos\\nyc-taxi-predictions-2025\\.venv\\Lib\\site-packages\\mlflow\\xgboost\\__init__.py:169: UserWarning: [21:03:51] WARNING: C:\\actions-runner\\_work\\xgboost\\xgboost\\src\\c_api\\c_api.cc:1575: Saving model in the UBJSON format as default.  You can use a file extension: `json` or `ubj` to choose between formats.\n",
      "  xgb_model.save_model(model_data_path)\n",
      "2025/10/21 21:03:56 WARNING mlflow.utils.environment: Failed to resolve installed pip version. ``pip`` will be added to conda.yaml environment spec without a version specifier.\n"
     ]
    },
    {
     "data": {
      "application/vnd.jupyter.widget-view+json": {
       "model_id": "8a6c064e951f4f628e6dc0085acbb821",
       "version_major": 2,
       "version_minor": 0
      },
      "text/plain": [
       "Downloading artifacts:   0%|          | 0/7 [00:00<?, ?it/s]"
      ]
     },
     "metadata": {},
     "output_type": "display_data"
    },
    {
     "name": "stderr",
     "output_type": "stream",
     "text": [
      "c:\\Users\\ivanm\\5to Semestre\\Proyecto de Ciencia de Datos\\nyc-taxi-predictions-2025\\.venv\\Lib\\site-packages\\mlflow\\xgboost\\__init__.py:321: UserWarning: [21:03:56] WARNING: C:\\actions-runner\\_work\\xgboost\\xgboost\\src\\c_api\\c_api.cc:1511: Unknown file format: `xgb`. Using UBJSON (`ubj`) as a guess.\n",
      "  model.load_model(xgb_model_path)\n",
      "[I 2025-10-21 21:04:23,551] Trial 5 finished with value: 6.143141049015581 and parameters: {'max_depth': 80, 'learning_rate': 0.0906292152736207, 'reg_alpha': 0.05270408847118816, 'reg_lambda': 0.04793414660944966, 'min_child_weight': 0.4429943118354462}. Best is trial 3 with value: 5.846650179216916.\n"
     ]
    },
    {
     "name": "stdout",
     "output_type": "stream",
     "text": [
      "🏃 View run bustling-kit-243 at: https://dbc-ed7122c4-c5b7.cloud.databricks.com/ml/experiments/2414141065980596/runs/0309bc3fb92e4831be6233f802d07a01\n",
      "🧪 View experiment at: https://dbc-ed7122c4-c5b7.cloud.databricks.com/ml/experiments/2414141065980596\n",
      "[0]\tvalidation-rmse:8.62391\n",
      "[1]\tvalidation-rmse:8.21018\n",
      "[2]\tvalidation-rmse:7.84974\n",
      "[3]\tvalidation-rmse:7.53188\n",
      "[4]\tvalidation-rmse:7.26013\n",
      "[5]\tvalidation-rmse:7.02725\n",
      "[6]\tvalidation-rmse:6.82746\n",
      "[7]\tvalidation-rmse:6.66305\n",
      "[8]\tvalidation-rmse:6.52048\n",
      "[9]\tvalidation-rmse:6.40161\n",
      "[10]\tvalidation-rmse:6.30692\n",
      "[11]\tvalidation-rmse:6.22890\n",
      "[12]\tvalidation-rmse:6.16775\n",
      "[13]\tvalidation-rmse:6.11905\n",
      "[14]\tvalidation-rmse:6.08234\n",
      "[15]\tvalidation-rmse:6.05303\n",
      "[16]\tvalidation-rmse:6.03194\n",
      "[17]\tvalidation-rmse:6.01691\n",
      "[18]\tvalidation-rmse:6.00887\n",
      "[19]\tvalidation-rmse:6.00468\n",
      "[20]\tvalidation-rmse:6.00513\n",
      "[21]\tvalidation-rmse:6.00844\n",
      "[22]\tvalidation-rmse:6.02110\n",
      "[23]\tvalidation-rmse:6.03277\n",
      "[24]\tvalidation-rmse:6.04577\n",
      "[25]\tvalidation-rmse:6.05854\n",
      "[26]\tvalidation-rmse:6.07302\n",
      "[27]\tvalidation-rmse:6.08146\n",
      "[28]\tvalidation-rmse:6.09487\n",
      "[29]\tvalidation-rmse:6.10488\n"
     ]
    },
    {
     "name": "stderr",
     "output_type": "stream",
     "text": [
      "c:\\Users\\ivanm\\5to Semestre\\Proyecto de Ciencia de Datos\\nyc-taxi-predictions-2025\\.venv\\Lib\\site-packages\\mlflow\\xgboost\\__init__.py:169: UserWarning: [21:04:29] WARNING: C:\\actions-runner\\_work\\xgboost\\xgboost\\src\\c_api\\c_api.cc:1575: Saving model in the UBJSON format as default.  You can use a file extension: `json` or `ubj` to choose between formats.\n",
      "  xgb_model.save_model(model_data_path)\n",
      "2025/10/21 21:04:34 WARNING mlflow.utils.environment: Failed to resolve installed pip version. ``pip`` will be added to conda.yaml environment spec without a version specifier.\n"
     ]
    },
    {
     "data": {
      "application/vnd.jupyter.widget-view+json": {
       "model_id": "11b2e4d5d3764734a7e53e9ee82ac16d",
       "version_major": 2,
       "version_minor": 0
      },
      "text/plain": [
       "Downloading artifacts:   0%|          | 0/7 [00:00<?, ?it/s]"
      ]
     },
     "metadata": {},
     "output_type": "display_data"
    },
    {
     "name": "stderr",
     "output_type": "stream",
     "text": [
      "c:\\Users\\ivanm\\5to Semestre\\Proyecto de Ciencia de Datos\\nyc-taxi-predictions-2025\\.venv\\Lib\\site-packages\\mlflow\\xgboost\\__init__.py:321: UserWarning: [21:04:34] WARNING: C:\\actions-runner\\_work\\xgboost\\xgboost\\src\\c_api\\c_api.cc:1511: Unknown file format: `xgb`. Using UBJSON (`ubj`) as a guess.\n",
      "  model.load_model(xgb_model_path)\n",
      "[I 2025-10-21 21:04:38,707] Trial 6 finished with value: 6.10488312838917 and parameters: {'max_depth': 62, 'learning_rate': 0.08304043435235499, 'reg_alpha': 0.008740449782948887, 'reg_lambda': 0.28491274207986833, 'min_child_weight': 17.505727836123448}. Best is trial 3 with value: 5.846650179216916.\n"
     ]
    },
    {
     "name": "stdout",
     "output_type": "stream",
     "text": [
      "🏃 View run amusing-conch-165 at: https://dbc-ed7122c4-c5b7.cloud.databricks.com/ml/experiments/2414141065980596/runs/9a3dbc3ba4aa46e28a6d3da74c1076ac\n",
      "🧪 View experiment at: https://dbc-ed7122c4-c5b7.cloud.databricks.com/ml/experiments/2414141065980596\n",
      "[0]\tvalidation-rmse:8.33007\n",
      "[1]\tvalidation-rmse:7.72054\n",
      "[2]\tvalidation-rmse:7.24069\n",
      "[3]\tvalidation-rmse:6.88367\n",
      "[4]\tvalidation-rmse:6.60014\n",
      "[5]\tvalidation-rmse:6.42148\n",
      "[6]\tvalidation-rmse:6.29091\n",
      "[7]\tvalidation-rmse:6.20743\n",
      "[8]\tvalidation-rmse:6.16511\n",
      "[9]\tvalidation-rmse:6.14034\n",
      "[10]\tvalidation-rmse:6.15159\n",
      "[11]\tvalidation-rmse:6.18146\n",
      "[12]\tvalidation-rmse:6.20450\n",
      "[13]\tvalidation-rmse:6.23558\n",
      "[14]\tvalidation-rmse:6.27294\n",
      "[15]\tvalidation-rmse:6.30535\n",
      "[16]\tvalidation-rmse:6.33939\n",
      "[17]\tvalidation-rmse:6.37846\n",
      "[18]\tvalidation-rmse:6.41587\n"
     ]
    },
    {
     "name": "stderr",
     "output_type": "stream",
     "text": [
      "c:\\Users\\ivanm\\5to Semestre\\Proyecto de Ciencia de Datos\\nyc-taxi-predictions-2025\\.venv\\Lib\\site-packages\\mlflow\\xgboost\\__init__.py:169: UserWarning: [21:04:50] WARNING: C:\\actions-runner\\_work\\xgboost\\xgboost\\src\\c_api\\c_api.cc:1575: Saving model in the UBJSON format as default.  You can use a file extension: `json` or `ubj` to choose between formats.\n",
      "  xgb_model.save_model(model_data_path)\n",
      "2025/10/21 21:04:55 WARNING mlflow.utils.environment: Failed to resolve installed pip version. ``pip`` will be added to conda.yaml environment spec without a version specifier.\n"
     ]
    },
    {
     "data": {
      "application/vnd.jupyter.widget-view+json": {
       "model_id": "fdd0d973685c46e18eb2effb2e2f5bb2",
       "version_major": 2,
       "version_minor": 0
      },
      "text/plain": [
       "Downloading artifacts:   0%|          | 0/7 [00:00<?, ?it/s]"
      ]
     },
     "metadata": {},
     "output_type": "display_data"
    },
    {
     "name": "stderr",
     "output_type": "stream",
     "text": [
      "c:\\Users\\ivanm\\5to Semestre\\Proyecto de Ciencia de Datos\\nyc-taxi-predictions-2025\\.venv\\Lib\\site-packages\\mlflow\\xgboost\\__init__.py:321: UserWarning: [21:04:55] WARNING: C:\\actions-runner\\_work\\xgboost\\xgboost\\src\\c_api\\c_api.cc:1511: Unknown file format: `xgb`. Using UBJSON (`ubj`) as a guess.\n",
      "  model.load_model(xgb_model_path)\n",
      "[I 2025-10-21 21:05:07,695] Trial 7 finished with value: 6.453628057951985 and parameters: {'max_depth': 82, 'learning_rate': 0.12416316985362412, 'reg_alpha': 0.009958672056108932, 'reg_lambda': 0.0758623422350637, 'min_child_weight': 2.1395809133199974}. Best is trial 3 with value: 5.846650179216916.\n"
     ]
    },
    {
     "name": "stdout",
     "output_type": "stream",
     "text": [
      "🏃 View run calm-newt-367 at: https://dbc-ed7122c4-c5b7.cloud.databricks.com/ml/experiments/2414141065980596/runs/4a7782d6554049d0b4f03705273cd16d\n",
      "🧪 View experiment at: https://dbc-ed7122c4-c5b7.cloud.databricks.com/ml/experiments/2414141065980596\n",
      "[0]\tvalidation-rmse:7.90086\n",
      "[1]\tvalidation-rmse:7.10776\n",
      "[2]\tvalidation-rmse:6.60035\n",
      "[3]\tvalidation-rmse:6.26634\n",
      "[4]\tvalidation-rmse:6.07716\n",
      "[5]\tvalidation-rmse:5.96639\n",
      "[6]\tvalidation-rmse:5.90866\n",
      "[7]\tvalidation-rmse:5.87440\n",
      "[8]\tvalidation-rmse:5.85545\n",
      "[9]\tvalidation-rmse:5.84629\n",
      "[10]\tvalidation-rmse:5.84413\n",
      "[11]\tvalidation-rmse:5.84210\n",
      "[12]\tvalidation-rmse:5.84137\n",
      "[13]\tvalidation-rmse:5.84109\n",
      "[14]\tvalidation-rmse:5.84131\n",
      "[15]\tvalidation-rmse:5.84484\n",
      "[16]\tvalidation-rmse:5.84484\n",
      "[17]\tvalidation-rmse:5.84465\n",
      "[18]\tvalidation-rmse:5.84423\n",
      "[19]\tvalidation-rmse:5.84364\n",
      "[20]\tvalidation-rmse:5.84347\n",
      "[21]\tvalidation-rmse:5.84339\n",
      "[22]\tvalidation-rmse:5.84329\n"
     ]
    },
    {
     "name": "stderr",
     "output_type": "stream",
     "text": [
      "c:\\Users\\ivanm\\5to Semestre\\Proyecto de Ciencia de Datos\\nyc-taxi-predictions-2025\\.venv\\Lib\\site-packages\\mlflow\\xgboost\\__init__.py:169: UserWarning: [21:05:13] WARNING: C:\\actions-runner\\_work\\xgboost\\xgboost\\src\\c_api\\c_api.cc:1575: Saving model in the UBJSON format as default.  You can use a file extension: `json` or `ubj` to choose between formats.\n",
      "  xgb_model.save_model(model_data_path)\n",
      "2025/10/21 21:05:18 WARNING mlflow.utils.environment: Failed to resolve installed pip version. ``pip`` will be added to conda.yaml environment spec without a version specifier.\n"
     ]
    },
    {
     "data": {
      "application/vnd.jupyter.widget-view+json": {
       "model_id": "2e27f936c8b94a678721b4d83e7820d9",
       "version_major": 2,
       "version_minor": 0
      },
      "text/plain": [
       "Downloading artifacts:   0%|          | 0/7 [00:00<?, ?it/s]"
      ]
     },
     "metadata": {},
     "output_type": "display_data"
    },
    {
     "name": "stderr",
     "output_type": "stream",
     "text": [
      "c:\\Users\\ivanm\\5to Semestre\\Proyecto de Ciencia de Datos\\nyc-taxi-predictions-2025\\.venv\\Lib\\site-packages\\mlflow\\xgboost\\__init__.py:321: UserWarning: [21:05:18] WARNING: C:\\actions-runner\\_work\\xgboost\\xgboost\\src\\c_api\\c_api.cc:1511: Unknown file format: `xgb`. Using UBJSON (`ubj`) as a guess.\n",
      "  model.load_model(xgb_model_path)\n",
      "[I 2025-10-21 21:05:20,652] Trial 8 finished with value: 5.843410858063445 and parameters: {'max_depth': 15, 'learning_rate': 0.21992487468175848, 'reg_alpha': 0.007731550026907306, 'reg_lambda': 0.23377457337376373, 'min_child_weight': 1.0357439143907545}. Best is trial 8 with value: 5.843410858063445.\n"
     ]
    },
    {
     "name": "stdout",
     "output_type": "stream",
     "text": [
      "🏃 View run funny-dolphin-192 at: https://dbc-ed7122c4-c5b7.cloud.databricks.com/ml/experiments/2414141065980596/runs/294d519bb150447e907b4eddadec305e\n",
      "🧪 View experiment at: https://dbc-ed7122c4-c5b7.cloud.databricks.com/ml/experiments/2414141065980596\n",
      "[0]\tvalidation-rmse:8.35943\n",
      "[1]\tvalidation-rmse:7.78324\n",
      "[2]\tvalidation-rmse:7.31316\n",
      "[3]\tvalidation-rmse:6.96617\n",
      "[4]\tvalidation-rmse:6.68598\n",
      "[5]\tvalidation-rmse:6.50056\n",
      "[6]\tvalidation-rmse:6.34935\n",
      "[7]\tvalidation-rmse:6.24739\n",
      "[8]\tvalidation-rmse:6.17133\n",
      "[9]\tvalidation-rmse:6.12732\n",
      "[10]\tvalidation-rmse:6.09083\n",
      "[11]\tvalidation-rmse:6.06449\n",
      "[12]\tvalidation-rmse:6.05188\n",
      "[13]\tvalidation-rmse:6.05277\n",
      "[14]\tvalidation-rmse:6.04414\n",
      "[15]\tvalidation-rmse:6.04347\n",
      "[16]\tvalidation-rmse:6.04031\n",
      "[17]\tvalidation-rmse:6.04716\n",
      "[18]\tvalidation-rmse:6.05163\n",
      "[19]\tvalidation-rmse:6.05908\n",
      "[20]\tvalidation-rmse:6.06734\n",
      "[21]\tvalidation-rmse:6.07233\n",
      "[22]\tvalidation-rmse:6.08056\n",
      "[23]\tvalidation-rmse:6.08381\n",
      "[24]\tvalidation-rmse:6.08952\n",
      "[25]\tvalidation-rmse:6.09652\n"
     ]
    },
    {
     "name": "stderr",
     "output_type": "stream",
     "text": [
      "c:\\Users\\ivanm\\5to Semestre\\Proyecto de Ciencia de Datos\\nyc-taxi-predictions-2025\\.venv\\Lib\\site-packages\\mlflow\\xgboost\\__init__.py:169: UserWarning: [21:05:34] WARNING: C:\\actions-runner\\_work\\xgboost\\xgboost\\src\\c_api\\c_api.cc:1575: Saving model in the UBJSON format as default.  You can use a file extension: `json` or `ubj` to choose between formats.\n",
      "  xgb_model.save_model(model_data_path)\n",
      "2025/10/21 21:05:39 WARNING mlflow.utils.environment: Failed to resolve installed pip version. ``pip`` will be added to conda.yaml environment spec without a version specifier.\n"
     ]
    },
    {
     "data": {
      "application/vnd.jupyter.widget-view+json": {
       "model_id": "b1b73ecb59c64ce3901941e4e19167a9",
       "version_major": 2,
       "version_minor": 0
      },
      "text/plain": [
       "Downloading artifacts:   0%|          | 0/7 [00:00<?, ?it/s]"
      ]
     },
     "metadata": {},
     "output_type": "display_data"
    },
    {
     "name": "stderr",
     "output_type": "stream",
     "text": [
      "c:\\Users\\ivanm\\5to Semestre\\Proyecto de Ciencia de Datos\\nyc-taxi-predictions-2025\\.venv\\Lib\\site-packages\\mlflow\\xgboost\\__init__.py:321: UserWarning: [21:05:39] WARNING: C:\\actions-runner\\_work\\xgboost\\xgboost\\src\\c_api\\c_api.cc:1511: Unknown file format: `xgb`. Using UBJSON (`ubj`) as a guess.\n",
      "  model.load_model(xgb_model_path)\n",
      "[I 2025-10-21 21:06:00,852] Trial 9 finished with value: 6.099423741638298 and parameters: {'max_depth': 68, 'learning_rate': 0.1268351874747755, 'reg_alpha': 0.05394836382863035, 'reg_lambda': 0.03814164293595655, 'min_child_weight': 0.7706028272535065}. Best is trial 8 with value: 5.843410858063445.\n"
     ]
    },
    {
     "name": "stdout",
     "output_type": "stream",
     "text": [
      "🏃 View run resilient-yak-932 at: https://dbc-ed7122c4-c5b7.cloud.databricks.com/ml/experiments/2414141065980596/runs/32bba52d25c5416397e76f3d81c4226a\n",
      "🧪 View experiment at: https://dbc-ed7122c4-c5b7.cloud.databricks.com/ml/experiments/2414141065980596\n",
      "[0]\tvalidation-rmse:7.90086\n",
      "[1]\tvalidation-rmse:7.10776\n",
      "[2]\tvalidation-rmse:6.60035\n",
      "[3]\tvalidation-rmse:6.26634\n",
      "[4]\tvalidation-rmse:6.07716\n",
      "[5]\tvalidation-rmse:5.96639\n",
      "[6]\tvalidation-rmse:5.90866\n",
      "[7]\tvalidation-rmse:5.87440\n",
      "[8]\tvalidation-rmse:5.85545\n",
      "[9]\tvalidation-rmse:5.84629\n",
      "[10]\tvalidation-rmse:5.84413\n",
      "[11]\tvalidation-rmse:5.84210\n",
      "[12]\tvalidation-rmse:5.84137\n",
      "[13]\tvalidation-rmse:5.84109\n",
      "[14]\tvalidation-rmse:5.84131\n",
      "[15]\tvalidation-rmse:5.84484\n",
      "[16]\tvalidation-rmse:5.84484\n",
      "[17]\tvalidation-rmse:5.84465\n",
      "[18]\tvalidation-rmse:5.84423\n",
      "[19]\tvalidation-rmse:5.84364\n",
      "[20]\tvalidation-rmse:5.84347\n",
      "[21]\tvalidation-rmse:5.84339\n",
      "[22]\tvalidation-rmse:5.84329\n",
      "[23]\tvalidation-rmse:5.84341\n"
     ]
    },
    {
     "name": "stderr",
     "output_type": "stream",
     "text": [
      "c:\\Users\\ivanm\\5to Semestre\\Proyecto de Ciencia de Datos\\nyc-taxi-predictions-2025\\.venv\\Lib\\site-packages\\mlflow\\xgboost\\__init__.py:169: UserWarning: [21:06:06] WARNING: C:\\actions-runner\\_work\\xgboost\\xgboost\\src\\c_api\\c_api.cc:1575: Saving model in the UBJSON format as default.  You can use a file extension: `json` or `ubj` to choose between formats.\n",
      "  xgb_model.save_model(model_data_path)\n",
      "2025/10/21 21:06:11 WARNING mlflow.utils.environment: Failed to resolve installed pip version. ``pip`` will be added to conda.yaml environment spec without a version specifier.\n"
     ]
    },
    {
     "data": {
      "application/vnd.jupyter.widget-view+json": {
       "model_id": "0ae9f65cb4184abdadc319b13553bd3c",
       "version_major": 2,
       "version_minor": 0
      },
      "text/plain": [
       "Downloading artifacts:   0%|          | 0/7 [00:00<?, ?it/s]"
      ]
     },
     "metadata": {},
     "output_type": "display_data"
    },
    {
     "name": "stderr",
     "output_type": "stream",
     "text": [
      "c:\\Users\\ivanm\\5to Semestre\\Proyecto de Ciencia de Datos\\nyc-taxi-predictions-2025\\.venv\\Lib\\site-packages\\mlflow\\xgboost\\__init__.py:321: UserWarning: [21:06:11] WARNING: C:\\actions-runner\\_work\\xgboost\\xgboost\\src\\c_api\\c_api.cc:1511: Unknown file format: `xgb`. Using UBJSON (`ubj`) as a guess.\n",
      "  model.load_model(xgb_model_path)\n"
     ]
    },
    {
     "name": "stdout",
     "output_type": "stream",
     "text": [
      "🏃 View run XGBoost Hyperparameter Optimization (Optuna) at: https://dbc-ed7122c4-c5b7.cloud.databricks.com/ml/experiments/2414141065980596/runs/8daec81555674b8885ef792bd8f8351d\n",
      "🧪 View experiment at: https://dbc-ed7122c4-c5b7.cloud.databricks.com/ml/experiments/2414141065980596\n"
     ]
    }
   ],
   "source": [
    "mlflow.xgboost.autolog(log_models=False)\n",
    "\n",
    "# ------------------------------------------------------------\n",
    "# Crear el estudio de Optuna\n",
    "#    - Usamos TPE (Tree-structured Parzen Estimator) como sampler.\n",
    "#    - direction=\"minimize\" porque queremos minimizar el RMSE.\n",
    "# ------------------------------------------------------------\n",
    "sampler = TPESampler(seed=42)\n",
    "study = optuna.create_study(direction=\"minimize\", sampler=sampler)\n",
    "\n",
    "# ------------------------------------------------------------\n",
    "# Ejecutar la optimización (n_trials = número de intentos)\n",
    "#    - Cada trial ejecuta la función objetivo con un set distinto de hiperparámetros.\n",
    "#    - Abrimos un run \"padre\" para agrupar toda la búsqueda.\n",
    "# ------------------------------------------------------------\n",
    "with mlflow.start_run(run_name=\"XGBoost Hyperparameter Optimization (Optuna)\", nested=True):\n",
    "    study.optimize(objective, n_trials=10)\n",
    "\n",
    "    # --------------------------------------------------------\n",
    "    # Recuperar y registrar los mejores hiperparámetros\n",
    "    # --------------------------------------------------------\n",
    "    best_params = study.best_params\n",
    "    # Asegurar tipos/campos fijos (por claridad y consistencia)\n",
    "    best_params[\"max_depth\"] = int(best_params[\"max_depth\"])\n",
    "    best_params[\"seed\"] = 42\n",
    "    best_params[\"objective\"] = \"reg:squarederror\"\n",
    "\n",
    "    mlflow.log_params(best_params)\n",
    "\n",
    "    # Etiquetas del run \"padre\" (metadatos del experimento)\n",
    "    mlflow.set_tags({\n",
    "        \"project\": \"NYC Taxi Time Prediction Project\",\n",
    "        \"optimizer_engine\": \"optuna\",\n",
    "        \"model_family\": \"xgboost\",\n",
    "        \"feature_set_version\": 1,\n",
    "    })\n",
    "\n",
    "    # --------------------------------------------------------\n",
    "    # 7) Entrenar un modelo FINAL con los mejores hiperparámetros\n",
    "    #    (normalmente se haría sobre train+val o con CV; aquí mantenemos el patrón original)\n",
    "    # --------------------------------------------------------\n",
    "    booster = xgb.train(\n",
    "        params=best_params,\n",
    "        dtrain=train,\n",
    "        num_boost_round=100,\n",
    "        evals=[(valid, \"validation\")],\n",
    "        early_stopping_rounds=10,\n",
    "    )\n",
    "\n",
    "    # Evaluar y registrar la métrica final en validación\n",
    "    y_pred = booster.predict(valid)\n",
    "    rmse = root_mean_squared_error(y_val, y_pred)\n",
    "    mlflow.log_metric(\"rmse\", rmse)\n",
    "\n",
    "    # --------------------------------------------------------\n",
    "    # 8) Guardar artefactos adicionales (p. ej. el preprocesador)\n",
    "    # --------------------------------------------------------\n",
    "    pathlib.Path(\"preprocessor\").mkdir(exist_ok=True)\n",
    "    with open(\"preprocessor/preprocessor.b\", \"wb\") as f_out:\n",
    "        pickle.dump(dv, f_out)\n",
    "\n",
    "    mlflow.log_artifact(\"preprocessor/preprocessor.b\", artifact_path=\"preprocessor\")\n",
    "\n",
    "    # La \"signature\" describe la estructura esperada de entrada y salida del modelo:\n",
    "    # incluye los nombres, tipos y forma (shape) de las variables de entrada y el tipo de salida.\n",
    "    # MLflow la usa para validar datos en inferencia y documentar el modelo en el Model Registry.\n",
    "    # Si X_val es la matriz dispersa (scipy.sparse) salida de DictVectorizer:\n",
    "    feature_names = dv.get_feature_names_out()\n",
    "    input_example = pd.DataFrame(X_val[:5].toarray(), columns=feature_names)\n",
    "\n",
    "    # Para que las longitudes coincidan, usa el mismo slice en y_pred\n",
    "    signature = infer_signature(input_example, y_val[:5])\n",
    "\n",
    "    # Guardar el modelo del trial como artefacto en MLflow.\n",
    "    mlflow.xgboost.log_model(\n",
    "        booster,\n",
    "        name=\"model\",\n",
    "        input_example=input_example,\n",
    "        signature=signature\n",
    "    )"
   ]
  },
  {
   "cell_type": "markdown",
   "id": "772ec4e5",
   "metadata": {},
   "source": [
    "Registrar modelo en `model registry`"
   ]
  },
  {
   "cell_type": "code",
   "execution_count": 19,
   "id": "47cb7d16",
   "metadata": {},
   "outputs": [],
   "source": [
    "model_name = \"workspace.default.nyc-taxi-model\""
   ]
  },
  {
   "cell_type": "markdown",
   "id": "eab457f1",
   "metadata": {},
   "source": [
    "Metodo 1 : `manual`"
   ]
  },
  {
   "cell_type": "code",
   "execution_count": 20,
   "id": "4be49457",
   "metadata": {},
   "outputs": [
    {
     "name": "stderr",
     "output_type": "stream",
     "text": [
      "Successfully registered model 'workspace.default.nyc-taxi-model'.\n",
      "2025/10/21 21:14:51 WARNING mlflow.tracking._model_registry.fluent: Run with id 8daec81555674b8885ef792bd8f8351d has no artifacts at artifact path 'model', registering model based on models:/m-bf0d61fef2554ae0a46760975f8bacf0 instead\n"
     ]
    },
    {
     "data": {
      "application/vnd.jupyter.widget-view+json": {
       "model_id": "b236da57132b4f628d44b8dde9b775c5",
       "version_major": 2,
       "version_minor": 0
      },
      "text/plain": [
       "Downloading artifacts:   0%|          | 0/7 [00:00<?, ?it/s]"
      ]
     },
     "metadata": {},
     "output_type": "display_data"
    },
    {
     "data": {
      "application/vnd.jupyter.widget-view+json": {
       "model_id": "719d5ba198fe49528cadf8955e9daacd",
       "version_major": 2,
       "version_minor": 0
      },
      "text/plain": [
       "Uploading artifacts:   0%|          | 0/8 [00:00<?, ?it/s]"
      ]
     },
     "metadata": {},
     "output_type": "display_data"
    },
    {
     "name": "stderr",
     "output_type": "stream",
     "text": [
      "Created version '1' of model 'workspace.default.nyc-taxi-model'.\n"
     ]
    }
   ],
   "source": [
    "run_id = input(\"Ingrese el run_id\")\n",
    "run_uri = f\"runs:/{run_id}/model\"\n",
    "\n",
    "result = mlflow.register_model(\n",
    "    model_uri=run_uri,\n",
    "    name=\"workspace.default.nyc-taxi-model\"\n",
    ")"
   ]
  },
  {
   "cell_type": "markdown",
   "id": "2e330a0f",
   "metadata": {},
   "source": [
    "Metodo 2 : `automatico`"
   ]
  },
  {
   "cell_type": "code",
   "execution_count": 21,
   "id": "0cbe584a",
   "metadata": {},
   "outputs": [
    {
     "name": "stdout",
     "output_type": "stream",
     "text": [
      "🏆 Champion Run encontrado:\n",
      "Run ID: 294d519bb150447e907b4eddadec305e\n",
      "RMSE: 5.843410858063445\n",
      "Params: {'custom_metric': 'None', 'early_stopping_rounds': '10', 'learning_rate': '0.21992487468175848', 'max_depth': '15', 'maximize': 'None', 'min_child_weight': '1.0357439143907545', 'num_boost_round': '100', 'objective': 'reg:squarederror', 'reg_alpha': '0.007731550026907306', 'reg_lambda': '0.23377457337376373', 'seed': '42', 'verbose_eval': 'True'}\n"
     ]
    }
   ],
   "source": [
    "runs = mlflow.search_runs(\n",
    "    experiment_names=[EXPERIMENT_NAME],\n",
    "    order_by=[\"metrics.rmse ASC\"],\n",
    "    output_format=\"list\"\n",
    ")\n",
    "\n",
    "# Obtener el mejor run\n",
    "if len(runs) > 0:\n",
    "    best_run = runs[0]\n",
    "    print(\"🏆 Champion Run encontrado:\")\n",
    "    print(f\"Run ID: {best_run.info.run_id}\")\n",
    "    print(f\"RMSE: {best_run.data.metrics['rmse']}\")\n",
    "    print(f\"Params: {best_run.data.params}\")\n",
    "else:\n",
    "    print(\"⚠️ No se encontraron runs con métrica RMSE.\")"
   ]
  },
  {
   "cell_type": "code",
   "execution_count": 22,
   "id": "d1ef7112",
   "metadata": {},
   "outputs": [
    {
     "data": {
      "text/plain": [
       "<Run: data=<RunData: metrics={'best_iteration': 13.0,\n",
       " 'rmse': 5.843410858063445,\n",
       " 'stopped_iteration': 22.0,\n",
       " 'validation-rmse': 5.8410895189847905}, params={'custom_metric': 'None',\n",
       " 'early_stopping_rounds': '10',\n",
       " 'learning_rate': '0.21992487468175848',\n",
       " 'max_depth': '15',\n",
       " 'maximize': 'None',\n",
       " 'min_child_weight': '1.0357439143907545',\n",
       " 'num_boost_round': '100',\n",
       " 'objective': 'reg:squarederror',\n",
       " 'reg_alpha': '0.007731550026907306',\n",
       " 'reg_lambda': '0.23377457337376373',\n",
       " 'seed': '42',\n",
       " 'verbose_eval': 'True'}, tags={'mlflow.parentRunId': '8daec81555674b8885ef792bd8f8351d',\n",
       " 'mlflow.rootRunId': '8daec81555674b8885ef792bd8f8351d',\n",
       " 'mlflow.runColor': '#5bc5db',\n",
       " 'mlflow.runName': 'funny-dolphin-192',\n",
       " 'mlflow.source.name': 'c:\\\\Users\\\\ivanm\\\\5to Semestre\\\\Proyecto de Ciencia de '\n",
       "                       'Datos\\\\nyc-taxi-predictions-2025\\\\.venv\\\\Lib\\\\site-packages\\\\ipykernel_launcher.py',\n",
       " 'mlflow.source.type': 'LOCAL',\n",
       " 'mlflow.user': 'ivan.morales@iteso.mx',\n",
       " 'model_family': 'xgboost'}>, info=<RunInfo: artifact_uri='dbfs:/databricks/mlflow-tracking/2414141065980596/294d519bb150447e907b4eddadec305e/artifacts', end_time=1761102320409, experiment_id='2414141065980596', lifecycle_stage='active', run_id='294d519bb150447e907b4eddadec305e', run_name='funny-dolphin-192', start_time=1761102307702, status='FINISHED', user_id=''>, inputs=<RunInputs: dataset_inputs=[<DatasetInput: dataset=<Dataset: digest='41d7b2c7', name='validation', profile=('{\"features_shape\": [44218, 452], \"features_size\": 19986536, '\n",
       " '\"features_nbytes\": 79946144}'), schema=('{\"mlflow_tensorspec\": {\"features\": \"[{\\\\\"type\\\\\": \\\\\"tensor\\\\\", '\n",
       " '\\\\\"tensor-spec\\\\\": {\\\\\"dtype\\\\\": \\\\\"float32\\\\\", \\\\\"shape\\\\\": [-1, 452]}}]\", '\n",
       " '\"targets\": null}}'), source=('{\"tags\": {\"mlflow.user\": \"ivanm\", \"mlflow.source.name\": '\n",
       " '\"c:\\\\\\\\Users\\\\\\\\ivanm\\\\\\\\5to Semestre\\\\\\\\Proyecto de Ciencia de '\n",
       " 'Datos\\\\\\\\nyc-taxi-predictions-2025\\\\\\\\.venv\\\\\\\\Lib\\\\\\\\site-packages\\\\\\\\ipykernel_launcher.py\", '\n",
       " '\"mlflow.source.type\": \"LOCAL\"}}'), source_type='code'>, tags=[<InputTag: key='mlflow.data.context', value='eval'>]>,\n",
       " <DatasetInput: dataset=<Dataset: digest='dd3d3ced', name='dataset', profile=('{\"features_shape\": [44218, 452], \"features_size\": 19986536, '\n",
       " '\"features_nbytes\": 79946144}'), schema=('{\"mlflow_tensorspec\": {\"features\": \"[{\\\\\"type\\\\\": \\\\\"tensor\\\\\", '\n",
       " '\\\\\"tensor-spec\\\\\": {\\\\\"dtype\\\\\": \\\\\"float32\\\\\", \\\\\"shape\\\\\": [-1, 452]}}]\", '\n",
       " '\"targets\": null}}'), source=('{\"tags\": {\"mlflow.user\": \"ivanm\", \"mlflow.source.name\": '\n",
       " '\"c:\\\\\\\\Users\\\\\\\\ivanm\\\\\\\\5to Semestre\\\\\\\\Proyecto de Ciencia de '\n",
       " 'Datos\\\\\\\\nyc-taxi-predictions-2025\\\\\\\\.venv\\\\\\\\Lib\\\\\\\\site-packages\\\\\\\\ipykernel_launcher.py\", '\n",
       " '\"mlflow.source.type\": \"LOCAL\"}}'), source_type='code'>, tags=[<InputTag: key='mlflow.data.context', value='train'>]>], model_inputs=[]>, outputs=<RunOutputs: model_outputs=[<LoggedModelOutput: model_id='m-6ed9b2791ef145a19597e5a3802fe516', step=0>]>>"
      ]
     },
     "execution_count": 22,
     "metadata": {},
     "output_type": "execute_result"
    }
   ],
   "source": [
    "best_run"
   ]
  },
  {
   "cell_type": "code",
   "execution_count": 23,
   "id": "ffe4efca",
   "metadata": {},
   "outputs": [
    {
     "data": {
      "text/plain": [
       "{'max_depth': 15,\n",
       " 'learning_rate': 0.21992487468175848,\n",
       " 'reg_alpha': 0.007731550026907306,\n",
       " 'reg_lambda': 0.23377457337376373,\n",
       " 'min_child_weight': 1.0357439143907545,\n",
       " 'seed': 42,\n",
       " 'objective': 'reg:squarederror'}"
      ]
     },
     "execution_count": 23,
     "metadata": {},
     "output_type": "execute_result"
    }
   ],
   "source": [
    "best_params"
   ]
  },
  {
   "cell_type": "code",
   "execution_count": 24,
   "id": "1baddd10",
   "metadata": {},
   "outputs": [
    {
     "data": {
      "text/plain": [
       "'294d519bb150447e907b4eddadec305e'"
      ]
     },
     "execution_count": 24,
     "metadata": {},
     "output_type": "execute_result"
    }
   ],
   "source": [
    "best_run.info.run_id"
   ]
  },
  {
   "cell_type": "code",
   "execution_count": 25,
   "id": "d88bbcd0",
   "metadata": {},
   "outputs": [
    {
     "name": "stderr",
     "output_type": "stream",
     "text": [
      "Registered model 'workspace.default.nyc-taxi-model' already exists. Creating a new version of this model...\n",
      "2025/10/21 21:24:13 WARNING mlflow.tracking._model_registry.fluent: Run with id 294d519bb150447e907b4eddadec305e has no artifacts at artifact path 'model', registering model based on models:/m-6ed9b2791ef145a19597e5a3802fe516 instead\n"
     ]
    },
    {
     "data": {
      "application/vnd.jupyter.widget-view+json": {
       "model_id": "2df34385e30a48708bab67e4e5df5585",
       "version_major": 2,
       "version_minor": 0
      },
      "text/plain": [
       "Downloading artifacts:   0%|          | 0/7 [00:00<?, ?it/s]"
      ]
     },
     "metadata": {},
     "output_type": "display_data"
    },
    {
     "data": {
      "application/vnd.jupyter.widget-view+json": {
       "model_id": "905f9470b8f54e6f8241c841f46e464d",
       "version_major": 2,
       "version_minor": 0
      },
      "text/plain": [
       "Uploading artifacts:   0%|          | 0/8 [00:00<?, ?it/s]"
      ]
     },
     "metadata": {},
     "output_type": "display_data"
    },
    {
     "name": "stderr",
     "output_type": "stream",
     "text": [
      "Created version '2' of model 'workspace.default.nyc-taxi-model'.\n"
     ]
    }
   ],
   "source": [
    "result = mlflow.register_model(\n",
    "    model_uri=f\"runs:/{best_run.info.run_id}/model\",\n",
    "    name=model_name\n",
    ")"
   ]
  },
  {
   "cell_type": "markdown",
   "id": "dc541e52",
   "metadata": {},
   "source": [
    "Asignar Alias"
   ]
  },
  {
   "cell_type": "code",
   "execution_count": 27,
   "id": "407c055a",
   "metadata": {},
   "outputs": [
    {
     "data": {
      "text/plain": [
       "<ModelVersion: aliases=[], creation_timestamp=1761103456679, current_stage=None, deployment_job_state=<ModelVersionDeploymentJobState: current_task_name='', job_id='', job_state='DEPLOYMENT_JOB_CONNECTION_STATE_UNSPECIFIED', run_id='', run_state='DEPLOYMENT_JOB_RUN_STATE_UNSPECIFIED'>, description='The model version 2 was transitioned to Champion on 2025-10-21 21:25:50.778872', last_updated_timestamp=1761103550857, metrics=[<Metric: dataset_digest='', dataset_name='', key='best_iteration', model_id='m-6ed9b2791ef145a19597e5a3802fe516', run_id='294d519bb150447e907b4eddadec305e', step=0, timestamp=1761102308699, value=13.0>,\n",
       " <Metric: dataset_digest='', dataset_name='', key='rmse', model_id='m-6ed9b2791ef145a19597e5a3802fe516', run_id='294d519bb150447e907b4eddadec305e', step=0, timestamp=1761102312135, value=5.843410858063445>,\n",
       " <Metric: dataset_digest='', dataset_name='', key='stopped_iteration', model_id='m-6ed9b2791ef145a19597e5a3802fe516', run_id='294d519bb150447e907b4eddadec305e', step=0, timestamp=1761102308699, value=22.0>,\n",
       " <Metric: dataset_digest='', dataset_name='', key='validation-rmse', model_id='m-6ed9b2791ef145a19597e5a3802fe516', run_id='294d519bb150447e907b4eddadec305e', step=0, timestamp=1761102308342, value=7.900860849924822>], model_id='m-6ed9b2791ef145a19597e5a3802fe516', name='workspace.default.nyc-taxi-model', params=[<LoggedModelParameter: key='num_boost_round', value='100'>,\n",
       " <LoggedModelParameter: key='reg_alpha', value='0.007731550026907306'>,\n",
       " <LoggedModelParameter: key='early_stopping_rounds', value='10'>,\n",
       " <LoggedModelParameter: key='objective', value='reg:squarederror'>,\n",
       " <LoggedModelParameter: key='learning_rate', value='0.21992487468175848'>,\n",
       " <LoggedModelParameter: key='seed', value='42'>,\n",
       " <LoggedModelParameter: key='maximize', value='None'>,\n",
       " <LoggedModelParameter: key='custom_metric', value='None'>,\n",
       " <LoggedModelParameter: key='max_depth', value='15'>,\n",
       " <LoggedModelParameter: key='verbose_eval', value='True'>,\n",
       " <LoggedModelParameter: key='min_child_weight', value='1.0357439143907545'>,\n",
       " <LoggedModelParameter: key='reg_lambda', value='0.23377457337376373'>], run_id='294d519bb150447e907b4eddadec305e', run_link=None, source='models:/m-6ed9b2791ef145a19597e5a3802fe516', status='READY', status_message='', tags={}, user_id='ivan.morales@iteso.mx', version='2'>"
      ]
     },
     "execution_count": 27,
     "metadata": {},
     "output_type": "execute_result"
    }
   ],
   "source": [
    "from mlflow import MlflowClient\n",
    "from datetime import datetime\n",
    "\n",
    "client = MlflowClient()\n",
    "\n",
    "model_version = result.version\n",
    "new_alias = \"Champion\"\n",
    "\n",
    "client.set_registered_model_alias(\n",
    "    name=model_name,\n",
    "    alias=new_alias,\n",
    "    version=result.version\n",
    ")\n",
    "\n",
    "date = datetime.today()\n",
    "\n",
    "client.update_model_version(\n",
    "    name=model_name,\n",
    "    version=model_version,\n",
    "    description=f\"The model version {model_version} was transitioned to {new_alias} on {date}\",\n",
    ")"
   ]
  },
  {
   "cell_type": "markdown",
   "id": "17cd6896",
   "metadata": {},
   "source": [
    "Obtener los modelos del `model registry`"
   ]
  },
  {
   "cell_type": "code",
   "execution_count": 28,
   "id": "f087aa49",
   "metadata": {},
   "outputs": [
    {
     "data": {
      "application/vnd.jupyter.widget-view+json": {
       "model_id": "95104c0816824c828a9267be2c5cde35",
       "version_major": 2,
       "version_minor": 0
      },
      "text/plain": [
       "Downloading artifacts:   0%|          | 0/8 [00:00<?, ?it/s]"
      ]
     },
     "metadata": {},
     "output_type": "display_data"
    },
    {
     "name": "stderr",
     "output_type": "stream",
     "text": [
      "c:\\Users\\ivanm\\5to Semestre\\Proyecto de Ciencia de Datos\\nyc-taxi-predictions-2025\\.venv\\Lib\\site-packages\\mlflow\\xgboost\\__init__.py:321: UserWarning: [21:27:59] WARNING: C:\\actions-runner\\_work\\xgboost\\xgboost\\src\\c_api\\c_api.cc:1511: Unknown file format: `xgb`. Using UBJSON (`ubj`) as a guess.\n",
      "  model.load_model(xgb_model_path)\n"
     ]
    },
    {
     "data": {
      "text/plain": [
       "array([ 5.177853, 25.42249 , 28.921564, ..., 20.84267 , 13.736658,\n",
       "       23.873058], shape=(44218,), dtype=float32)"
      ]
     },
     "execution_count": 28,
     "metadata": {},
     "output_type": "execute_result"
    }
   ],
   "source": [
    "import mlflow.pyfunc\n",
    "\n",
    "model_version_uri = f\"models:/{model_name}@Champion\"\n",
    "\n",
    "champion_version = mlflow.pyfunc.load_model(model_version_uri)\n",
    "champion_version.predict(X_val)"
   ]
  }
 ],
 "metadata": {
  "kernelspec": {
   "display_name": "nyc-taxi-predictions-2025 (3.13.7)",
   "language": "python",
   "name": "python3"
  },
  "language_info": {
   "codemirror_mode": {
    "name": "ipython",
    "version": 3
   },
   "file_extension": ".py",
   "mimetype": "text/x-python",
   "name": "python",
   "nbconvert_exporter": "python",
   "pygments_lexer": "ipython3",
   "version": "3.13.7"
  }
 },
 "nbformat": 4,
 "nbformat_minor": 5
}
